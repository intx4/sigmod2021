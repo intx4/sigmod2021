{
 "cells": [
  {
   "cell_type": "code",
   "execution_count": 7,
   "metadata": {
    "collapsed": true
   },
   "outputs": [],
   "source": [
    "from pyspark.ml.classification import LinearSVC, LogisticRegression\n",
    "from pyspark.ml.tuning import ParamGridBuilder, TrainValidationSplit, CrossValidator\n",
    "from pyspark.ml.evaluation import BinaryClassificationEvaluator\n",
    "from pyspark.conf import SparkConf\n",
    "from pyspark.sql import SparkSession\n",
    "from pyspark.sql import functions as f\n",
    "from pyspark.sql import types as t"
   ]
  },
  {
   "cell_type": "code",
   "execution_count": 8,
   "outputs": [],
   "source": [
    "spark = (\n",
    "    SparkSession.builder.config(\"spark.executor.memory\", \"4g\")\n",
    "    .config(\"spark.executor.cores\", \"2\")\n",
    "    .config(\"spark.cores.max\", \"2\")\n",
    "    .config(\"spark.driver.memory\", \"8g\")\n",
    "    .getOrCreate()\n",
    ")"
   ],
   "metadata": {
    "collapsed": false,
    "pycharm": {
     "name": "#%%\n"
    }
   }
  },
  {
   "cell_type": "code",
   "execution_count": 9,
   "outputs": [
    {
     "data": {
      "text/plain": "                                                 features  label   weights\n0       [0.9418604651162791, 1.0, 1.0, 1.0, 1.0, 1.0, ...      1  0.000399\n1       [0.25, 1.0, 1.0, 0.5, 0.017107309486780742, 0....      1  0.000399\n2       [0.18902439024390238, 1.0, 1.0, 1.0, 0.2941176...      1  0.000399\n3       [0.323170731707317, 1.0, 1.0, 0.5, 0.008812856...      1  0.000399\n4       [0.3597560975609756, 1.0, 1.0, 1.0, 0.00922409...      1  0.000399\n...                                                   ...    ...       ...\n113227  [0.2574850299401198, 1.0, 1.0, 0.0, 0.21428571...      0  0.000009\n113228  [0.2857142857142857, 1.0, 1.0, 0.0, 0.28205128...      0  0.000009\n113229  [0.2544378698224852, 1.0, 0.0, 0.0, 0.07999999...      0  0.000009\n113230  [0.2544378698224852, 1.0, 1.0, 0.0, 0.21428571...      0  0.000009\n113231  [0.27118644067796616, 1.0, 0.0, 0.0, 0.14, 0.8...      0  0.000009\n\n[113232 rows x 3 columns]",
      "text/html": "<div>\n<style scoped>\n    .dataframe tbody tr th:only-of-type {\n        vertical-align: middle;\n    }\n\n    .dataframe tbody tr th {\n        vertical-align: top;\n    }\n\n    .dataframe thead th {\n        text-align: right;\n    }\n</style>\n<table border=\"1\" class=\"dataframe\">\n  <thead>\n    <tr style=\"text-align: right;\">\n      <th></th>\n      <th>features</th>\n      <th>label</th>\n      <th>weights</th>\n    </tr>\n  </thead>\n  <tbody>\n    <tr>\n      <th>0</th>\n      <td>[0.9418604651162791, 1.0, 1.0, 1.0, 1.0, 1.0, ...</td>\n      <td>1</td>\n      <td>0.000399</td>\n    </tr>\n    <tr>\n      <th>1</th>\n      <td>[0.25, 1.0, 1.0, 0.5, 0.017107309486780742, 0....</td>\n      <td>1</td>\n      <td>0.000399</td>\n    </tr>\n    <tr>\n      <th>2</th>\n      <td>[0.18902439024390238, 1.0, 1.0, 1.0, 0.2941176...</td>\n      <td>1</td>\n      <td>0.000399</td>\n    </tr>\n    <tr>\n      <th>3</th>\n      <td>[0.323170731707317, 1.0, 1.0, 0.5, 0.008812856...</td>\n      <td>1</td>\n      <td>0.000399</td>\n    </tr>\n    <tr>\n      <th>4</th>\n      <td>[0.3597560975609756, 1.0, 1.0, 1.0, 0.00922409...</td>\n      <td>1</td>\n      <td>0.000399</td>\n    </tr>\n    <tr>\n      <th>...</th>\n      <td>...</td>\n      <td>...</td>\n      <td>...</td>\n    </tr>\n    <tr>\n      <th>113227</th>\n      <td>[0.2574850299401198, 1.0, 1.0, 0.0, 0.21428571...</td>\n      <td>0</td>\n      <td>0.000009</td>\n    </tr>\n    <tr>\n      <th>113228</th>\n      <td>[0.2857142857142857, 1.0, 1.0, 0.0, 0.28205128...</td>\n      <td>0</td>\n      <td>0.000009</td>\n    </tr>\n    <tr>\n      <th>113229</th>\n      <td>[0.2544378698224852, 1.0, 0.0, 0.0, 0.07999999...</td>\n      <td>0</td>\n      <td>0.000009</td>\n    </tr>\n    <tr>\n      <th>113230</th>\n      <td>[0.2544378698224852, 1.0, 1.0, 0.0, 0.21428571...</td>\n      <td>0</td>\n      <td>0.000009</td>\n    </tr>\n    <tr>\n      <th>113231</th>\n      <td>[0.27118644067796616, 1.0, 0.0, 0.0, 0.14, 0.8...</td>\n      <td>0</td>\n      <td>0.000009</td>\n    </tr>\n  </tbody>\n</table>\n<p>113232 rows × 3 columns</p>\n</div>"
     },
     "execution_count": 9,
     "metadata": {},
     "output_type": "execute_result"
    }
   ],
   "source": [
    "label_df = spark.read.parquet('./X3.parquet')\n",
    "\n",
    "\n",
    "def compute_weights(df, column=\"label\"):\n",
    "    w_zero = 1 / df.filter(f.col(column) == 0).count()\n",
    "    w_one = 1 / df.filter(f.col(column) == 1).count()\n",
    "    return df.withColumn(\"weights\", f.when(f.col(column) == 0, w_zero).otherwise(w_one))\n",
    "\n",
    "label_df = compute_weights(label_df)\n",
    "label_df.toPandas()"
   ],
   "metadata": {
    "collapsed": false,
    "pycharm": {
     "name": "#%%\n"
    }
   }
  },
  {
   "cell_type": "markdown",
   "source": [
    "3. Machine Learning Magic Bitch"
   ],
   "metadata": {
    "collapsed": false,
    "pycharm": {
     "name": "#%% md\n"
    }
   }
  },
  {
   "cell_type": "code",
   "execution_count": 10,
   "outputs": [],
   "source": [
    "import numpy as np\n",
    "\n",
    "ths = np.linspace(0.5,1.6,num=22)\n",
    "model = LinearSVC(featuresCol='features', labelCol='label', weightCol='weights',maxIter=100)\n",
    "param_grid = ParamGridBuilder().addGrid(model.threshold, ths).build()\n",
    "\"\"\"\n",
    "cvs_2 = CrossValidator(estimator=model,\n",
    "                           estimatorParamMaps=param_grid,\n",
    "                           evaluator=BinaryClassificationEvaluator(rawPredictionCol='prediction', labelCol='label', weightCol='weights', metricName=\"areaUnderPR\"),\\\n",
    "                           numFolds=4)\n",
    "\"\"\"\n",
    "cvs_2 = TrainValidationSplit(\n",
    "    estimator=model,\n",
    "    estimatorParamMaps=param_grid,\n",
    "    evaluator=BinaryClassificationEvaluator(rawPredictionCol='prediction', labelCol='label', weightCol='weights', metricName=\"areaUnderPR\")\n",
    ")"
   ],
   "metadata": {
    "collapsed": false,
    "pycharm": {
     "name": "#%%\n"
    }
   }
  },
  {
   "cell_type": "code",
   "execution_count": 11,
   "outputs": [],
   "source": [
    "def stratified_split_train_test(df, frac, label, seed=42):\n",
    "    \"\"\" stratfied split of a dataframe in train and test set.\"\"\"\n",
    "    fractions = df.select(label).distinct().withColumn(\"fraction\", f.lit(frac)).rdd.collectAsMap()\n",
    "    df_frac = df.stat.sampleBy(label, fractions, seed)\n",
    "    df_remaining = df.exceptAll(df_frac)\n",
    "    return df_frac, df_remaining\n",
    "\n",
    "#training_set, test_set = stratified_split_train_test(df=label_df, frac=0.8, label=\"label\")\n",
    "#grid_search, hyperpar tuning...\n",
    "ratio = label_df.filter('label==1').count()/label_df.filter('label==0').count()\n",
    "\n",
    "zeros_df = label_df.filter('label==0').sample(False, ratio)\n",
    "label_df = label_df.filter('label==1').unionAll(zeros_df)\n",
    "training_set, test_set = stratified_split_train_test(df=label_df,label='label',frac=0.8,seed=42)"
   ],
   "metadata": {
    "collapsed": false,
    "pycharm": {
     "name": "#%%\n"
    }
   }
  },
  {
   "cell_type": "code",
   "execution_count": 12,
   "outputs": [],
   "source": [
    "estimator_2 = cvs_2.fit(training_set)"
   ],
   "metadata": {
    "collapsed": false,
    "pycharm": {
     "name": "#%%\n"
    }
   }
  },
  {
   "cell_type": "code",
   "execution_count": 13,
   "outputs": [],
   "source": [
    "prediction_2 = estimator_2.transform(test_set).select('label','prediction')"
   ],
   "metadata": {
    "collapsed": false,
    "pycharm": {
     "name": "#%%\n"
    }
   }
  },
  {
   "cell_type": "code",
   "execution_count": null,
   "outputs": [],
   "source": [
    "accuracy = prediction_2.filter(f.col('label')==f.col('prediction').cast(t.IntegerType())).count() / prediction_2.count()\n",
    "print(\"Accuracy: \", accuracy)\n",
    "p = prediction_2.filter(\"label==1 AND prediction==1\").count() / prediction_2.filter('prediction==1').count()\n",
    "r = prediction_2.filter(\"label==1 AND prediction==1\").count() / prediction_2.filter('label == 1').count()\n",
    "f1 = 2*p*r/(p+r)\n",
    "print(\"F1-2 score: \", f1)"
   ],
   "metadata": {
    "collapsed": false,
    "pycharm": {
     "name": "#%%\n",
     "is_executing": true
    }
   }
  },
  {
   "cell_type": "code",
   "execution_count": null,
   "outputs": [],
   "source": [
    "estimator_2.save(\"model-notebooks\")\n",
    "!zip -r model.zip model.model"
   ],
   "metadata": {
    "collapsed": false,
    "pycharm": {
     "name": "#%%\n",
     "is_executing": true
    }
   }
  },
  {
   "cell_type": "code",
   "execution_count": null,
   "outputs": [],
   "source": [
    "estimator_2.bestModel.getThreshold()"
   ],
   "metadata": {
    "collapsed": false,
    "pycharm": {
     "name": "#%%\n"
    }
   }
  }
 ],
 "metadata": {
  "kernelspec": {
   "name": "pycharm-a2066b67",
   "language": "python",
   "display_name": "PyCharm (sigmod-2021)"
  },
  "language_info": {
   "codemirror_mode": {
    "name": "ipython",
    "version": 2
   },
   "file_extension": ".py",
   "mimetype": "text/x-python",
   "name": "python",
   "nbconvert_exporter": "python",
   "pygments_lexer": "ipython2",
   "version": "2.7.6"
  }
 },
 "nbformat": 4,
 "nbformat_minor": 0
}