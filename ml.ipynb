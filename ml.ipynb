{
 "cells": [
  {
   "cell_type": "code",
   "execution_count": 2,
   "metadata": {
    "collapsed": true
   },
   "outputs": [],
   "source": [
    "from pyspark.ml.classification import LinearSVC, LogisticRegression\n",
    "from pyspark.ml.tuning import ParamGridBuilder, CrossValidator\n",
    "from pyspark.ml.evaluation import BinaryClassificationEvaluator, MultilabelClassificationEvaluator\n",
    "from pyspark.conf import SparkConf\n",
    "from pyspark.sql import SparkSession\n",
    "from pyspark.sql import functions as f\n",
    "from pyspark.sql import types as t\n",
    "from pyspark.sql import Window as w\n",
    "from graphframes import GraphFrame\n",
    "from pyspark.ml.linalg import DenseVector, SparseVector\n",
    "from pyspark.ml.linalg import VectorUDT, Vectors\n",
    "from pyspark.mllib.evaluation import BinaryClassificationMetrics"
   ]
  },
  {
   "cell_type": "code",
   "execution_count": 3,
   "outputs": [],
   "source": [
    "spark = (\n",
    "    SparkSession.builder.config(\"spark.executor.memory\", \"4g\")\n",
    "    .config(\"spark.executor.cores\", \"2\")\n",
    "    .config(\"spark.cores.max\", \"2\")\n",
    "    .config(\"spark.driver.memory\", \"8g\")\n",
    "    .getOrCreate()\n",
    ")"
   ],
   "metadata": {
    "collapsed": false,
    "pycharm": {
     "name": "#%%\n"
    }
   }
  },
  {
   "cell_type": "code",
   "execution_count": 25,
   "outputs": [
    {
     "data": {
      "text/plain": "                                                 features  label   weights\n0       [0.3006134969325154, 1.0, 0.30508474576271183,...      1  0.000232\n1       [0.5343137254901961, 1.0, 0.13888888888888884,...      1  0.000232\n2       [0.1659751037344398, 1.0, 0.4626865671641791, ...      1  0.000232\n3       [0.7591240875912408, 1.0, 0.6666666666666667, ...      1  0.000232\n4       [0.4024896265560166, 1.0, 0.2457627118644068, ...      1  0.000232\n...                                                   ...    ...       ...\n117301  [0.2063037249283668, 1.0, 0.0847457627118644, ...      0  0.000009\n117302  [0.2063037249283668, 1.0, 0.0847457627118644, ...      0  0.000009\n117303  [0.45517241379310347, 1.0, 0.5245901639344263,...      0  0.000009\n117304  [0.20343839541547282, 1.0, 0.0847457627118644,...      0  0.000009\n117305  [0.2222222222222222, 1.0, 0.0847457627118644, ...      0  0.000009\n\n[117306 rows x 3 columns]",
      "text/html": "<div>\n<style scoped>\n    .dataframe tbody tr th:only-of-type {\n        vertical-align: middle;\n    }\n\n    .dataframe tbody tr th {\n        vertical-align: top;\n    }\n\n    .dataframe thead th {\n        text-align: right;\n    }\n</style>\n<table border=\"1\" class=\"dataframe\">\n  <thead>\n    <tr style=\"text-align: right;\">\n      <th></th>\n      <th>features</th>\n      <th>label</th>\n      <th>weights</th>\n    </tr>\n  </thead>\n  <tbody>\n    <tr>\n      <th>0</th>\n      <td>[0.3006134969325154, 1.0, 0.30508474576271183,...</td>\n      <td>1</td>\n      <td>0.000232</td>\n    </tr>\n    <tr>\n      <th>1</th>\n      <td>[0.5343137254901961, 1.0, 0.13888888888888884,...</td>\n      <td>1</td>\n      <td>0.000232</td>\n    </tr>\n    <tr>\n      <th>2</th>\n      <td>[0.1659751037344398, 1.0, 0.4626865671641791, ...</td>\n      <td>1</td>\n      <td>0.000232</td>\n    </tr>\n    <tr>\n      <th>3</th>\n      <td>[0.7591240875912408, 1.0, 0.6666666666666667, ...</td>\n      <td>1</td>\n      <td>0.000232</td>\n    </tr>\n    <tr>\n      <th>4</th>\n      <td>[0.4024896265560166, 1.0, 0.2457627118644068, ...</td>\n      <td>1</td>\n      <td>0.000232</td>\n    </tr>\n    <tr>\n      <th>...</th>\n      <td>...</td>\n      <td>...</td>\n      <td>...</td>\n    </tr>\n    <tr>\n      <th>117301</th>\n      <td>[0.2063037249283668, 1.0, 0.0847457627118644, ...</td>\n      <td>0</td>\n      <td>0.000009</td>\n    </tr>\n    <tr>\n      <th>117302</th>\n      <td>[0.2063037249283668, 1.0, 0.0847457627118644, ...</td>\n      <td>0</td>\n      <td>0.000009</td>\n    </tr>\n    <tr>\n      <th>117303</th>\n      <td>[0.45517241379310347, 1.0, 0.5245901639344263,...</td>\n      <td>0</td>\n      <td>0.000009</td>\n    </tr>\n    <tr>\n      <th>117304</th>\n      <td>[0.20343839541547282, 1.0, 0.0847457627118644,...</td>\n      <td>0</td>\n      <td>0.000009</td>\n    </tr>\n    <tr>\n      <th>117305</th>\n      <td>[0.2222222222222222, 1.0, 0.0847457627118644, ...</td>\n      <td>0</td>\n      <td>0.000009</td>\n    </tr>\n  </tbody>\n</table>\n<p>117306 rows × 3 columns</p>\n</div>"
     },
     "execution_count": 25,
     "metadata": {},
     "output_type": "execute_result"
    }
   ],
   "source": [
    "label_df = spark.read.parquet('./dataset.parquet')\n",
    "\n",
    "\n",
    "def compute_weights(df, column=\"label\"):\n",
    "    w_zero = 1 / df.filter(f.col(column) == 0).count()\n",
    "    w_one = 1 / df.filter(f.col(column) == 1).count()\n",
    "    return df.withColumn(\"weights\", f.when(f.col(column) == 0, w_zero).otherwise(w_one))\n",
    "\n",
    "label_df = compute_weights(label_df)\n",
    "label_df.toPandas()"
   ],
   "metadata": {
    "collapsed": false,
    "pycharm": {
     "name": "#%%\n"
    }
   }
  },
  {
   "cell_type": "markdown",
   "source": [
    "3. Machine Learning Magic Bitch"
   ],
   "metadata": {
    "collapsed": false,
    "pycharm": {
     "name": "#%% md\n"
    }
   }
  },
  {
   "cell_type": "code",
   "execution_count": 26,
   "outputs": [],
   "source": [
    "model = LinearSVC(featuresCol='features', labelCol='label', weightCol='weights',maxIter=1000)\n",
    "param_grid = ParamGridBuilder().addGrid(model.threshold, [0.1,0.25,0.5,0.75]).build()\n",
    "cvs_1 = CrossValidator(estimator=model,\n",
    "                           estimatorParamMaps=param_grid,\n",
    "                           evaluator=BinaryClassificationEvaluator(rawPredictionCol='prediction', labelCol='label', weightCol='weights'),\\\n",
    "                           numFolds=4)\n",
    "cvs_2 = CrossValidator(estimator=model,\n",
    "                           estimatorParamMaps=param_grid,\n",
    "                           evaluator=BinaryClassificationEvaluator(rawPredictionCol='prediction', labelCol='label', weightCol='weights', metricName=\"areaUnderPR\"),\\\n",
    "                           numFolds=4)"
   ],
   "metadata": {
    "collapsed": false,
    "pycharm": {
     "name": "#%%\n"
    }
   }
  },
  {
   "cell_type": "code",
   "execution_count": 27,
   "outputs": [
    {
     "data": {
      "text/plain": "                                                features  label   weights\n0      [0.75177304964539, 1.0, 0.9030470914127424, 1....      1  0.000232\n1      [1.0, 1.0, 1.0, 1.0, 1.0, 1.0, 1.0000001154722...      1  0.000232\n2      [1.0, 1.0, 1.0, 1.0, 1.0, 1.0, 1.0000001154722...      1  0.000232\n3      [0.9819819819819819, 1.0, 0.9938080495356038, ...      1  0.000232\n4      [0.9819819819819819, 1.0, 0.9938080495356038, ...      1  0.000232\n...                                                  ...    ...       ...\n23452  [0.2603305785123967, 0.0, 0.10089020771513357,...      0  0.000009\n23453  [0.2603305785123967, 0.0, 0.10089020771513357,...      0  0.000009\n23454  [0.2603305785123967, 0.0, 0.10089020771513357,...      0  0.000009\n23455  [0.1709401709401709, 0.0, 0.1454005934718101, ...      0  0.000009\n23456  [0.1709401709401709, 0.0, 0.1454005934718101, ...      0  0.000009\n\n[23457 rows x 3 columns]",
      "text/html": "<div>\n<style scoped>\n    .dataframe tbody tr th:only-of-type {\n        vertical-align: middle;\n    }\n\n    .dataframe tbody tr th {\n        vertical-align: top;\n    }\n\n    .dataframe thead th {\n        text-align: right;\n    }\n</style>\n<table border=\"1\" class=\"dataframe\">\n  <thead>\n    <tr style=\"text-align: right;\">\n      <th></th>\n      <th>features</th>\n      <th>label</th>\n      <th>weights</th>\n    </tr>\n  </thead>\n  <tbody>\n    <tr>\n      <th>0</th>\n      <td>[0.75177304964539, 1.0, 0.9030470914127424, 1....</td>\n      <td>1</td>\n      <td>0.000232</td>\n    </tr>\n    <tr>\n      <th>1</th>\n      <td>[1.0, 1.0, 1.0, 1.0, 1.0, 1.0, 1.0000001154722...</td>\n      <td>1</td>\n      <td>0.000232</td>\n    </tr>\n    <tr>\n      <th>2</th>\n      <td>[1.0, 1.0, 1.0, 1.0, 1.0, 1.0, 1.0000001154722...</td>\n      <td>1</td>\n      <td>0.000232</td>\n    </tr>\n    <tr>\n      <th>3</th>\n      <td>[0.9819819819819819, 1.0, 0.9938080495356038, ...</td>\n      <td>1</td>\n      <td>0.000232</td>\n    </tr>\n    <tr>\n      <th>4</th>\n      <td>[0.9819819819819819, 1.0, 0.9938080495356038, ...</td>\n      <td>1</td>\n      <td>0.000232</td>\n    </tr>\n    <tr>\n      <th>...</th>\n      <td>...</td>\n      <td>...</td>\n      <td>...</td>\n    </tr>\n    <tr>\n      <th>23452</th>\n      <td>[0.2603305785123967, 0.0, 0.10089020771513357,...</td>\n      <td>0</td>\n      <td>0.000009</td>\n    </tr>\n    <tr>\n      <th>23453</th>\n      <td>[0.2603305785123967, 0.0, 0.10089020771513357,...</td>\n      <td>0</td>\n      <td>0.000009</td>\n    </tr>\n    <tr>\n      <th>23454</th>\n      <td>[0.2603305785123967, 0.0, 0.10089020771513357,...</td>\n      <td>0</td>\n      <td>0.000009</td>\n    </tr>\n    <tr>\n      <th>23455</th>\n      <td>[0.1709401709401709, 0.0, 0.1454005934718101, ...</td>\n      <td>0</td>\n      <td>0.000009</td>\n    </tr>\n    <tr>\n      <th>23456</th>\n      <td>[0.1709401709401709, 0.0, 0.1454005934718101, ...</td>\n      <td>0</td>\n      <td>0.000009</td>\n    </tr>\n  </tbody>\n</table>\n<p>23457 rows × 3 columns</p>\n</div>"
     },
     "execution_count": 27,
     "metadata": {},
     "output_type": "execute_result"
    }
   ],
   "source": [
    "def stratified_split_train_test(df, frac, label, seed=42):\n",
    "    \"\"\" stratfied split of a dataframe in train and test set.\"\"\"\n",
    "    fractions = df.select(label).distinct().withColumn(\"fraction\", f.lit(frac)).rdd.collectAsMap()\n",
    "    df_frac = df.stat.sampleBy(label, fractions, seed)\n",
    "    df_remaining = df.exceptAll(df_frac)\n",
    "    return df_frac, df_remaining\n",
    "\n",
    "training_set, test_set = stratified_split_train_test(df=label_df, frac=0.8, label=\"label\")\n",
    "#grid_search, hyperpar tuning...\n",
    "test_set.toPandas()"
   ],
   "metadata": {
    "collapsed": false,
    "pycharm": {
     "name": "#%%\n"
    }
   }
  },
  {
   "cell_type": "code",
   "execution_count": 28,
   "outputs": [
    {
     "data": {
      "text/plain": "                                                features  label   weights\n0      [0.3006134969325154, 1.0, 0.30508474576271183,...      1  0.000232\n1      [0.5343137254901961, 1.0, 0.13888888888888884,...      1  0.000232\n2      [0.7591240875912408, 1.0, 0.6666666666666667, ...      1  0.000232\n3      [0.4024896265560166, 1.0, 0.2457627118644068, ...      1  0.000232\n4      [0.4311594202898551, 1.0, 1.0, 0.0, 0.22727272...      1  0.000232\n...                                                  ...    ...       ...\n93844  [0.22499999999999998, 1.0, 0.0847457627118644,...      0  0.000009\n93845  [0.2063037249283668, 1.0, 0.0847457627118644, ...      0  0.000009\n93846  [0.2063037249283668, 1.0, 0.0847457627118644, ...      0  0.000009\n93847  [0.45517241379310347, 1.0, 0.5245901639344263,...      0  0.000009\n93848  [0.20343839541547282, 1.0, 0.0847457627118644,...      0  0.000009\n\n[93849 rows x 3 columns]",
      "text/html": "<div>\n<style scoped>\n    .dataframe tbody tr th:only-of-type {\n        vertical-align: middle;\n    }\n\n    .dataframe tbody tr th {\n        vertical-align: top;\n    }\n\n    .dataframe thead th {\n        text-align: right;\n    }\n</style>\n<table border=\"1\" class=\"dataframe\">\n  <thead>\n    <tr style=\"text-align: right;\">\n      <th></th>\n      <th>features</th>\n      <th>label</th>\n      <th>weights</th>\n    </tr>\n  </thead>\n  <tbody>\n    <tr>\n      <th>0</th>\n      <td>[0.3006134969325154, 1.0, 0.30508474576271183,...</td>\n      <td>1</td>\n      <td>0.000232</td>\n    </tr>\n    <tr>\n      <th>1</th>\n      <td>[0.5343137254901961, 1.0, 0.13888888888888884,...</td>\n      <td>1</td>\n      <td>0.000232</td>\n    </tr>\n    <tr>\n      <th>2</th>\n      <td>[0.7591240875912408, 1.0, 0.6666666666666667, ...</td>\n      <td>1</td>\n      <td>0.000232</td>\n    </tr>\n    <tr>\n      <th>3</th>\n      <td>[0.4024896265560166, 1.0, 0.2457627118644068, ...</td>\n      <td>1</td>\n      <td>0.000232</td>\n    </tr>\n    <tr>\n      <th>4</th>\n      <td>[0.4311594202898551, 1.0, 1.0, 0.0, 0.22727272...</td>\n      <td>1</td>\n      <td>0.000232</td>\n    </tr>\n    <tr>\n      <th>...</th>\n      <td>...</td>\n      <td>...</td>\n      <td>...</td>\n    </tr>\n    <tr>\n      <th>93844</th>\n      <td>[0.22499999999999998, 1.0, 0.0847457627118644,...</td>\n      <td>0</td>\n      <td>0.000009</td>\n    </tr>\n    <tr>\n      <th>93845</th>\n      <td>[0.2063037249283668, 1.0, 0.0847457627118644, ...</td>\n      <td>0</td>\n      <td>0.000009</td>\n    </tr>\n    <tr>\n      <th>93846</th>\n      <td>[0.2063037249283668, 1.0, 0.0847457627118644, ...</td>\n      <td>0</td>\n      <td>0.000009</td>\n    </tr>\n    <tr>\n      <th>93847</th>\n      <td>[0.45517241379310347, 1.0, 0.5245901639344263,...</td>\n      <td>0</td>\n      <td>0.000009</td>\n    </tr>\n    <tr>\n      <th>93848</th>\n      <td>[0.20343839541547282, 1.0, 0.0847457627118644,...</td>\n      <td>0</td>\n      <td>0.000009</td>\n    </tr>\n  </tbody>\n</table>\n<p>93849 rows × 3 columns</p>\n</div>"
     },
     "execution_count": 28,
     "metadata": {},
     "output_type": "execute_result"
    }
   ],
   "source": [
    "training_set.toPandas()"
   ],
   "metadata": {
    "collapsed": false,
    "pycharm": {
     "name": "#%%\n"
    }
   }
  },
  {
   "cell_type": "code",
   "execution_count": null,
   "outputs": [],
   "source": [
    "estimator_1 = cvs_1.fit(training_set)\n",
    "estimator_2 = cvs_2.fit(training_set)"
   ],
   "metadata": {
    "collapsed": false,
    "pycharm": {
     "name": "#%%\n"
    }
   }
  },
  {
   "cell_type": "code",
   "execution_count": 29,
   "outputs": [
    {
     "data": {
      "text/plain": "   prediction  count\n0         0.0  22047\n1         1.0   1410",
      "text/html": "<div>\n<style scoped>\n    .dataframe tbody tr th:only-of-type {\n        vertical-align: middle;\n    }\n\n    .dataframe tbody tr th {\n        vertical-align: top;\n    }\n\n    .dataframe thead th {\n        text-align: right;\n    }\n</style>\n<table border=\"1\" class=\"dataframe\">\n  <thead>\n    <tr style=\"text-align: right;\">\n      <th></th>\n      <th>prediction</th>\n      <th>count</th>\n    </tr>\n  </thead>\n  <tbody>\n    <tr>\n      <th>0</th>\n      <td>0.0</td>\n      <td>22047</td>\n    </tr>\n    <tr>\n      <th>1</th>\n      <td>1.0</td>\n      <td>1410</td>\n    </tr>\n  </tbody>\n</table>\n</div>"
     },
     "execution_count": 29,
     "metadata": {},
     "output_type": "execute_result"
    }
   ],
   "source": [
    "prediction_1 = estimator_1.transform(test_set).select('label','prediction')\n",
    "prediction_2 = estimator_2.transform(test_set).select('label','prediction')\n",
    "prediction_1.groupby(\"prediction\").count().toPandas()\n",
    "prediction_2.groupby(\"prediction\").count().toPandas()"
   ],
   "metadata": {
    "collapsed": false,
    "pycharm": {
     "name": "#%%\n"
    }
   }
  },
  {
   "cell_type": "code",
   "execution_count": 30,
   "outputs": [
    {
     "name": "stdout",
     "output_type": "stream",
     "text": [
      "Accuracy:  0.9574114336871723\n",
      "F1-1 score:  0.5986339895540378\n",
      "Accuracy:  0.9667476659419363\n",
      "F1-2 score:  0.648331830477908\n"
     ]
    }
   ],
   "source": [
    "accuracy = prediction_1.filter(f.col('label')==f.col('prediction').cast(t.IntegerType())).count() / prediction_1.count()\n",
    "print(\"Accuracy: \", accuracy)\n",
    "p = prediction_1.filter(\"label==1 AND prediction==1\").count() / prediction_1.filter('prediction==1').count()\n",
    "r = prediction_1.filter(\"label==1 AND prediction==1\").count() / prediction_1.filter('label == 1').count()\n",
    "f1 = 2*p*r/(p+r)\n",
    "print(\"F1-1 score: \", f1)\n",
    "\n",
    "\n",
    "accuracy = prediction_2.filter(f.col('label')==f.col('prediction').cast(t.IntegerType())).count() / prediction_2.count()\n",
    "print(\"Accuracy: \", accuracy)\n",
    "p = prediction_2.filter(\"label==1 AND prediction==1\").count() / prediction_2.filter('prediction==1').count()\n",
    "r = prediction_2.filter(\"label==1 AND prediction==1\").count() / prediction_2.filter('label == 1').count()\n",
    "f1 = 2*p*r/(p+r)\n",
    "print(\"F1-2 score: \", f1)"
   ],
   "metadata": {
    "collapsed": false,
    "pycharm": {
     "name": "#%%\n"
    }
   }
  },
  {
   "cell_type": "code",
   "execution_count": null,
   "outputs": [],
   "source": [
    "estimator_2.save(\"model.model\")\n",
    "!zip -r model.zip model.model\n"
   ],
   "metadata": {
    "collapsed": false,
    "pycharm": {
     "name": "#%%\n"
    }
   }
  }
 ],
 "metadata": {
  "kernelspec": {
   "name": "pycharm-a2066b67",
   "language": "python",
   "display_name": "PyCharm (sigmod-2021)"
  },
  "language_info": {
   "codemirror_mode": {
    "name": "ipython",
    "version": 2
   },
   "file_extension": ".py",
   "mimetype": "text/x-python",
   "name": "python",
   "nbconvert_exporter": "python",
   "pygments_lexer": "ipython2",
   "version": "2.7.6"
  }
 },
 "nbformat": 4,
 "nbformat_minor": 0
}