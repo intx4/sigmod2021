{
 "cells": [
  {
   "cell_type": "code",
   "execution_count": 2,
   "metadata": {
    "collapsed": true
   },
   "outputs": [],
   "source": [
    "from pyspark.ml.classification import LinearSVC, LogisticRegression\n",
    "from pyspark.ml.tuning import ParamGridBuilder, CrossValidator\n",
    "from pyspark.ml.evaluation import BinaryClassificationEvaluator\n",
    "from pyspark.conf import SparkConf\n",
    "from pyspark.sql import SparkSession\n",
    "from pyspark.sql import functions as f\n",
    "from pyspark.sql import types as t\n",
    "from pyspark.sql import Window as w\n",
    "from graphframes import GraphFrame\n",
    "from pyspark.ml.linalg import DenseVector, SparseVector\n",
    "from pyspark.ml.linalg import VectorUDT, Vectors\n",
    "from pyspark.mllib.evaluation import BinaryClassificationMetrics"
   ]
  },
  {
   "cell_type": "code",
   "execution_count": 3,
   "outputs": [],
   "source": [
    "spark = (\n",
    "    SparkSession.builder.config(\"spark.executor.memory\", \"4g\")\n",
    "    .config(\"spark.executor.cores\", \"2\")\n",
    "    .config(\"spark.cores.max\", \"2\")\n",
    "    .config(\"spark.driver.memory\", \"8g\")\n",
    "    .getOrCreate()\n",
    ")"
   ],
   "metadata": {
    "collapsed": false,
    "pycharm": {
     "name": "#%%\n"
    }
   }
  },
  {
   "cell_type": "code",
   "execution_count": 110,
   "outputs": [
    {
     "data": {
      "text/plain": "                                                 features  label   weights\n0       [0.3006134969325154, 1.0, 0.30508474576271183,...      1  0.000232\n1       [0.5343137254901961, 1.0, 0.13888888888888884,...      1  0.000232\n2       [0.1659751037344398, 1.0, 0.4626865671641791, ...      1  0.000232\n3       [0.7591240875912408, 1.0, 0.6666666666666667, ...      1  0.000232\n4       [0.4024896265560166, 1.0, 0.2457627118644068, ...      1  0.000232\n...                                                   ...    ...       ...\n117301  [0.2063037249283668, 1.0, 0.0847457627118644, ...      0  0.000009\n117302  [0.2063037249283668, 1.0, 0.0847457627118644, ...      0  0.000009\n117303  [0.45517241379310347, 1.0, 0.5245901639344263,...      0  0.000009\n117304  [0.20343839541547282, 1.0, 0.0847457627118644,...      0  0.000009\n117305  [0.2222222222222222, 1.0, 0.0847457627118644, ...      0  0.000009\n\n[117306 rows x 3 columns]",
      "text/html": "<div>\n<style scoped>\n    .dataframe tbody tr th:only-of-type {\n        vertical-align: middle;\n    }\n\n    .dataframe tbody tr th {\n        vertical-align: top;\n    }\n\n    .dataframe thead th {\n        text-align: right;\n    }\n</style>\n<table border=\"1\" class=\"dataframe\">\n  <thead>\n    <tr style=\"text-align: right;\">\n      <th></th>\n      <th>features</th>\n      <th>label</th>\n      <th>weights</th>\n    </tr>\n  </thead>\n  <tbody>\n    <tr>\n      <th>0</th>\n      <td>[0.3006134969325154, 1.0, 0.30508474576271183,...</td>\n      <td>1</td>\n      <td>0.000232</td>\n    </tr>\n    <tr>\n      <th>1</th>\n      <td>[0.5343137254901961, 1.0, 0.13888888888888884,...</td>\n      <td>1</td>\n      <td>0.000232</td>\n    </tr>\n    <tr>\n      <th>2</th>\n      <td>[0.1659751037344398, 1.0, 0.4626865671641791, ...</td>\n      <td>1</td>\n      <td>0.000232</td>\n    </tr>\n    <tr>\n      <th>3</th>\n      <td>[0.7591240875912408, 1.0, 0.6666666666666667, ...</td>\n      <td>1</td>\n      <td>0.000232</td>\n    </tr>\n    <tr>\n      <th>4</th>\n      <td>[0.4024896265560166, 1.0, 0.2457627118644068, ...</td>\n      <td>1</td>\n      <td>0.000232</td>\n    </tr>\n    <tr>\n      <th>...</th>\n      <td>...</td>\n      <td>...</td>\n      <td>...</td>\n    </tr>\n    <tr>\n      <th>117301</th>\n      <td>[0.2063037249283668, 1.0, 0.0847457627118644, ...</td>\n      <td>0</td>\n      <td>0.000009</td>\n    </tr>\n    <tr>\n      <th>117302</th>\n      <td>[0.2063037249283668, 1.0, 0.0847457627118644, ...</td>\n      <td>0</td>\n      <td>0.000009</td>\n    </tr>\n    <tr>\n      <th>117303</th>\n      <td>[0.45517241379310347, 1.0, 0.5245901639344263,...</td>\n      <td>0</td>\n      <td>0.000009</td>\n    </tr>\n    <tr>\n      <th>117304</th>\n      <td>[0.20343839541547282, 1.0, 0.0847457627118644,...</td>\n      <td>0</td>\n      <td>0.000009</td>\n    </tr>\n    <tr>\n      <th>117305</th>\n      <td>[0.2222222222222222, 1.0, 0.0847457627118644, ...</td>\n      <td>0</td>\n      <td>0.000009</td>\n    </tr>\n  </tbody>\n</table>\n<p>117306 rows × 3 columns</p>\n</div>"
     },
     "execution_count": 110,
     "metadata": {},
     "output_type": "execute_result"
    }
   ],
   "source": [
    "label_df = spark.read.parquet('./dataset.parquet')\n",
    "\n",
    "\n",
    "def compute_weights(df, column=\"label\"):\n",
    "    w_zero = 1 / df.filter(f.col(column) == 0).count()\n",
    "    w_one = 1 / df.filter(f.col(column) == 1).count()\n",
    "    return df.withColumn(\"weights\", f.when(f.col(column) == 0, w_zero).otherwise(w_one))\n",
    "\n",
    "label_df = compute_weights(label_df)\n",
    "label_df.toPandas()"
   ],
   "metadata": {
    "collapsed": false,
    "pycharm": {
     "name": "#%%\n"
    }
   }
  },
  {
   "cell_type": "markdown",
   "source": [
    "3. Machine Learning Magic Bitch"
   ],
   "metadata": {
    "collapsed": false,
    "pycharm": {
     "name": "#%% md\n"
    }
   }
  },
  {
   "cell_type": "code",
   "execution_count": 75,
   "outputs": [],
   "source": [
    "import numpy as np\n",
    "\"\"\"\n",
    "ths = np.linspace(0.9,0.99,num=10)\n",
    "model = LinearSVC(featuresCol='features', labelCol='label', weightCol='weights',maxIter=100)\n",
    "param_grid = ParamGridBuilder().addGrid(model.threshold, ths).build()\n",
    "cvs_2 = CrossValidator(estimator=model,\n",
    "                           estimatorParamMaps=param_grid,\n",
    "                           evaluator=BinaryClassificationEvaluator(rawPredictionCol='prediction', labelCol='label', weightCol='weights', metricName=\"areaUnderPR\"),\\\n",
    "                           numFolds=4)\n",
    "\"\"\""
   ],
   "metadata": {
    "collapsed": false,
    "pycharm": {
     "name": "#%%\n"
    }
   }
  },
  {
   "cell_type": "code",
   "execution_count": 111,
   "outputs": [
    {
     "name": "stdout",
     "output_type": "stream",
     "text": [
      "0.03808782145448753\n"
     ]
    }
   ],
   "source": [
    "def stratified_split_train_test(df, frac, label, seed=42):\n",
    "    \"\"\" stratfied split of a dataframe in train and test set.\"\"\"\n",
    "    fractions = df.select(label).distinct().withColumn(\"fraction\", f.lit(frac)).rdd.collectAsMap()\n",
    "    df_frac = df.stat.sampleBy(label, fractions, seed)\n",
    "    df_remaining = df.exceptAll(df_frac)\n",
    "    return df_frac, df_remaining\n",
    "\n",
    "#training_set, test_set = stratified_split_train_test(df=label_df, frac=0.8, label=\"label\")\n",
    "#grid_search, hyperpar tuning...\n",
    "ratio = label_df.filter('label==1').count()/label_df.filter('label==0').count()\n",
    "\n",
    "zeros_df = label_df.filter('label==0').sample(False, ratio)\n",
    "label_df = label_df.filter('label==1').unionAll(zeros_df)\n",
    "training_set, test_set = stratified_split_train_test(df=label_df,label='label',frac=0.8,seed=42)\n",
    "model = LinearSVC(featuresCol='features', labelCol='label', weightCol='weights',maxIter=100, threshold=0.99)"
   ],
   "metadata": {
    "collapsed": false,
    "pycharm": {
     "name": "#%%\n"
    }
   }
  },
  {
   "cell_type": "code",
   "execution_count": 112,
   "outputs": [],
   "source": [
    "estimator_2 = model.fit(training_set)"
   ],
   "metadata": {
    "collapsed": false,
    "pycharm": {
     "name": "#%%\n"
    }
   }
  },
  {
   "cell_type": "code",
   "execution_count": 113,
   "outputs": [],
   "source": [
    "prediction_2 = estimator_2.transform(test_set).select('label','prediction')"
   ],
   "metadata": {
    "collapsed": false,
    "pycharm": {
     "name": "#%%\n"
    }
   }
  },
  {
   "cell_type": "code",
   "execution_count": 114,
   "outputs": [
    {
     "name": "stdout",
     "output_type": "stream",
     "text": [
      "Accuracy:  0.8206521739130435\n",
      "F1-2 score:  0.8419372006386375\n"
     ]
    }
   ],
   "source": [
    "accuracy = prediction_2.filter(f.col('label')==f.col('prediction').cast(t.IntegerType())).count() / prediction_2.count()\n",
    "print(\"Accuracy: \", accuracy)\n",
    "p = prediction_2.filter(\"label==1 AND prediction==1\").count() / prediction_2.filter('prediction==1').count()\n",
    "r = prediction_2.filter(\"label==1 AND prediction==1\").count() / prediction_2.filter('label == 1').count()\n",
    "f1 = 2*p*r/(p+r)\n",
    "print(\"F1-2 score: \", f1)"
   ],
   "metadata": {
    "collapsed": false,
    "pycharm": {
     "name": "#%%\n"
    }
   }
  },
  {
   "cell_type": "code",
   "execution_count": 115,
   "outputs": [
    {
     "name": "stdout",
     "output_type": "stream",
     "text": [
      "updating: model.model/ (stored 0%)\r\n",
      "updating: model.model/metadata/ (stored 0%)\r\n",
      "updating: model.model/metadata/.part-00000.crc (stored 0%)\r\n",
      "updating: model.model/metadata/part-00000 (deflated 44%)\r\n",
      "updating: model.model/metadata/._SUCCESS.crc (stored 0%)\r\n",
      "updating: model.model/metadata/_SUCCESS (stored 0%)\r\n",
      "  adding: model.model/data/ (stored 0%)\r\n",
      "  adding: model.model/data/part-00000-fe3abaf0-96d4-4c97-b73a-42936d954220-c000.snappy.parquet (deflated 54%)\r\n",
      "  adding: model.model/data/.part-00000-fe3abaf0-96d4-4c97-b73a-42936d954220-c000.snappy.parquet.crc (stored 0%)\r\n",
      "  adding: model.model/data/._SUCCESS.crc (stored 0%)\r\n",
      "  adding: model.model/data/_SUCCESS (stored 0%)\r\n"
     ]
    }
   ],
   "source": [
    "estimator_2.save(\"model.model\")\n",
    "!zip -r model.zip model.model"
   ],
   "metadata": {
    "collapsed": false,
    "pycharm": {
     "name": "#%%\n"
    }
   }
  },
  {
   "cell_type": "code",
   "execution_count": 90,
   "outputs": [
    {
     "ename": "AttributeError",
     "evalue": "'LinearSVCModel' object has no attribute 'bestModel'",
     "output_type": "error",
     "traceback": [
      "\u001B[0;31m---------------------------------------------------------------------------\u001B[0m",
      "\u001B[0;31mAttributeError\u001B[0m                            Traceback (most recent call last)",
      "\u001B[0;32m<ipython-input-90-7986174bd7b6>\u001B[0m in \u001B[0;36m<module>\u001B[0;34m\u001B[0m\n\u001B[0;32m----> 1\u001B[0;31m \u001B[0mestimator_2\u001B[0m\u001B[0;34m.\u001B[0m\u001B[0mbestModel\u001B[0m\u001B[0;34m.\u001B[0m\u001B[0mgetThreshold\u001B[0m\u001B[0;34m(\u001B[0m\u001B[0;34m)\u001B[0m\u001B[0;34m\u001B[0m\u001B[0;34m\u001B[0m\u001B[0m\n\u001B[0m",
      "\u001B[0;31mAttributeError\u001B[0m: 'LinearSVCModel' object has no attribute 'bestModel'"
     ]
    }
   ],
   "source": [
    "estimator_2.bestModel.getThreshold()"
   ],
   "metadata": {
    "collapsed": false,
    "pycharm": {
     "name": "#%%\n"
    }
   }
  }
 ],
 "metadata": {
  "kernelspec": {
   "name": "pycharm-a2066b67",
   "language": "python",
   "display_name": "PyCharm (sigmod-2021)"
  },
  "language_info": {
   "codemirror_mode": {
    "name": "ipython",
    "version": 2
   },
   "file_extension": ".py",
   "mimetype": "text/x-python",
   "name": "python",
   "nbconvert_exporter": "python",
   "pygments_lexer": "ipython2",
   "version": "2.7.6"
  }
 },
 "nbformat": 4,
 "nbformat_minor": 0
}