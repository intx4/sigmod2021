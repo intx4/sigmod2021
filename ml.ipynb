{
 "cells": [
  {
   "cell_type": "code",
   "execution_count": 24,
   "metadata": {
    "collapsed": true
   },
   "outputs": [],
   "source": [
    "from pyspark.ml.classification import LinearSVC, LogisticRegression\n",
    "from pyspark.ml.tuning import ParamGridBuilder, TrainValidationSplit, CrossValidator\n",
    "from pyspark.ml.evaluation import BinaryClassificationEvaluator\n",
    "from pyspark.conf import SparkConf\n",
    "from pyspark.sql import SparkSession\n",
    "from pyspark.sql import functions as f\n",
    "from pyspark.sql import types as t"
   ]
  },
  {
   "cell_type": "code",
   "execution_count": 25,
   "outputs": [],
   "source": [
    "spark = (\n",
    "    SparkSession.builder.config(\"spark.executor.memory\", \"4g\")\n",
    "    .config(\"spark.executor.cores\", \"2\")\n",
    "    .config(\"spark.cores.max\", \"2\")\n",
    "    .config(\"spark.driver.memory\", \"8g\")\n",
    "    .getOrCreate()\n",
    ")"
   ],
   "metadata": {
    "collapsed": false,
    "pycharm": {
     "name": "#%%\n"
    }
   }
  },
  {
   "cell_type": "code",
   "execution_count": 26,
   "outputs": [
    {
     "data": {
      "text/plain": "                                                features  label   weights\n0      [0.23529411764705888, 0.0, 1.0, 0.0, 0.2352941...      0  0.000011\n1      (0.18604651162790697, 0.0, 0.0, 0.0, 0.25, 0.6...      0  0.000011\n2      [0.19999999999999996, 0.0, 1.0, 0.0, 0.2352941...      0  0.000011\n3      [0.21176470588235297, 0.0, 1.0, 0.5, 0.1739130...      0  0.000011\n4      (0.21764705882352942, 0.0, 1.0, 0.0, 0.0, 0.0,...      0  0.000011\n...                                                  ...    ...       ...\n95691  [0.7291666666666667, 1.0, 1.0, 0.5, 0.77593360...      0  0.000011\n95692  (0.4305555555555556, 0.0, 0.0, 0.0, 0.0, 0.0, ...      0  0.000011\n95693  (0.5811965811965811, 0.0, 0.0, 0.0, 0.0, 0.0, ...      0  0.000011\n95694  [0.20710059171597628, 0.0, 1.0, 0.5, 0.1490384...      0  0.000011\n95695  [0.42105263157894735, 0.0, 1.0, 0.0, 0.1698113...      0  0.000011\n\n[95696 rows x 3 columns]",
      "text/html": "<div>\n<style scoped>\n    .dataframe tbody tr th:only-of-type {\n        vertical-align: middle;\n    }\n\n    .dataframe tbody tr th {\n        vertical-align: top;\n    }\n\n    .dataframe thead th {\n        text-align: right;\n    }\n</style>\n<table border=\"1\" class=\"dataframe\">\n  <thead>\n    <tr style=\"text-align: right;\">\n      <th></th>\n      <th>features</th>\n      <th>label</th>\n      <th>weights</th>\n    </tr>\n  </thead>\n  <tbody>\n    <tr>\n      <th>0</th>\n      <td>[0.23529411764705888, 0.0, 1.0, 0.0, 0.2352941...</td>\n      <td>0</td>\n      <td>0.000011</td>\n    </tr>\n    <tr>\n      <th>1</th>\n      <td>(0.18604651162790697, 0.0, 0.0, 0.0, 0.25, 0.6...</td>\n      <td>0</td>\n      <td>0.000011</td>\n    </tr>\n    <tr>\n      <th>2</th>\n      <td>[0.19999999999999996, 0.0, 1.0, 0.0, 0.2352941...</td>\n      <td>0</td>\n      <td>0.000011</td>\n    </tr>\n    <tr>\n      <th>3</th>\n      <td>[0.21176470588235297, 0.0, 1.0, 0.5, 0.1739130...</td>\n      <td>0</td>\n      <td>0.000011</td>\n    </tr>\n    <tr>\n      <th>4</th>\n      <td>(0.21764705882352942, 0.0, 1.0, 0.0, 0.0, 0.0,...</td>\n      <td>0</td>\n      <td>0.000011</td>\n    </tr>\n    <tr>\n      <th>...</th>\n      <td>...</td>\n      <td>...</td>\n      <td>...</td>\n    </tr>\n    <tr>\n      <th>95691</th>\n      <td>[0.7291666666666667, 1.0, 1.0, 0.5, 0.77593360...</td>\n      <td>0</td>\n      <td>0.000011</td>\n    </tr>\n    <tr>\n      <th>95692</th>\n      <td>(0.4305555555555556, 0.0, 0.0, 0.0, 0.0, 0.0, ...</td>\n      <td>0</td>\n      <td>0.000011</td>\n    </tr>\n    <tr>\n      <th>95693</th>\n      <td>(0.5811965811965811, 0.0, 0.0, 0.0, 0.0, 0.0, ...</td>\n      <td>0</td>\n      <td>0.000011</td>\n    </tr>\n    <tr>\n      <th>95694</th>\n      <td>[0.20710059171597628, 0.0, 1.0, 0.5, 0.1490384...</td>\n      <td>0</td>\n      <td>0.000011</td>\n    </tr>\n    <tr>\n      <th>95695</th>\n      <td>[0.42105263157894735, 0.0, 1.0, 0.0, 0.1698113...</td>\n      <td>0</td>\n      <td>0.000011</td>\n    </tr>\n  </tbody>\n</table>\n<p>95696 rows × 3 columns</p>\n</div>"
     },
     "execution_count": 26,
     "metadata": {},
     "output_type": "execute_result"
    }
   ],
   "source": [
    "label_1 = spark.read.parquet('./X3.parquet')\n",
    "label_2 = spark.read.parquet('./X2.parquet')\n",
    "label_df = label_1.union(label_2).distinct()\n",
    "\n",
    "def compute_weights(df, column=\"label\"):\n",
    "    w_zero = 1 / df.filter(f.col(column) == 0).count()\n",
    "    w_one = 1 / df.filter(f.col(column) == 1).count()\n",
    "    return df.withColumn(\"weights\", f.when(f.col(column) == 0, w_zero).otherwise(w_one))\n",
    "\n",
    "label_df = compute_weights(label_df)\n",
    "label_df.toPandas()"
   ],
   "metadata": {
    "collapsed": false,
    "pycharm": {
     "name": "#%%\n"
    }
   }
  },
  {
   "cell_type": "markdown",
   "source": [
    "3. Machine Learning Magic Bitch"
   ],
   "metadata": {
    "collapsed": false,
    "pycharm": {
     "name": "#%% md\n"
    }
   }
  },
  {
   "cell_type": "code",
   "execution_count": 29,
   "outputs": [],
   "source": [
    "import numpy as np\n",
    "\n",
    "ths = np.linspace(0.5,1.6,num=22)\n",
    "model = LinearSVC(featuresCol='features', labelCol='label', weightCol='weights',maxIter=100)\n",
    "param_grid = ParamGridBuilder().addGrid(model.threshold, ths).build()\n",
    "cvs_2 = CrossValidator(estimator=model,\n",
    "                           estimatorParamMaps=param_grid,\n",
    "                           evaluator=BinaryClassificationEvaluator(rawPredictionCol='prediction', labelCol='label', weightCol='weights', metricName=\"areaUnderPR\"),\\\n",
    "                           numFolds=4)"
   ],
   "metadata": {
    "collapsed": false,
    "pycharm": {
     "name": "#%%\n"
    }
   }
  },
  {
   "cell_type": "code",
   "execution_count": 30,
   "outputs": [],
   "source": [
    "def stratified_split_train_test(df, frac, label, seed=42):\n",
    "    \"\"\" stratfied split of a dataframe in train and test set.\"\"\"\n",
    "    fractions = df.select(label).distinct().withColumn(\"fraction\", f.lit(frac)).rdd.collectAsMap()\n",
    "    df_frac = df.stat.sampleBy(label, fractions, seed)\n",
    "    df_remaining = df.exceptAll(df_frac)\n",
    "    return df_frac, df_remaining\n",
    "\n",
    "#training_set, test_set = stratified_split_train_test(df=label_df, frac=0.8, label=\"label\")\n",
    "#grid_search, hyperpar tuning...\n",
    "training_set, test_set = stratified_split_train_test(df=label_df,label='label',frac=0.8,seed=42)"
   ],
   "metadata": {
    "collapsed": false,
    "pycharm": {
     "name": "#%%\n"
    }
   }
  },
  {
   "cell_type": "code",
   "execution_count": null,
   "outputs": [],
   "source": [
    "estimator_2 = cvs_2.fit(training_set)"
   ],
   "metadata": {
    "collapsed": false,
    "pycharm": {
     "name": "#%%\n",
     "is_executing": true
    }
   }
  },
  {
   "cell_type": "code",
   "execution_count": null,
   "outputs": [],
   "source": [
    "prediction_2 = estimator_2.transform(test_set).select('label','prediction')"
   ],
   "metadata": {
    "collapsed": false,
    "pycharm": {
     "name": "#%%\n",
     "is_executing": true
    }
   }
  },
  {
   "cell_type": "code",
   "execution_count": null,
   "outputs": [],
   "source": [
    "accuracy = prediction_2.filter(f.col('label')==f.col('prediction').cast(t.IntegerType())).count() / prediction_2.count()\n",
    "print(\"Accuracy: \", accuracy)\n",
    "p = prediction_2.filter(\"label==1 AND prediction==1\").count() / prediction_2.filter('prediction==1').count()\n",
    "r = prediction_2.filter(\"label==1 AND prediction==1\").count() / prediction_2.filter('label == 1').count()\n",
    "f1 = 2*p*r/(p+r)\n",
    "print(\"F1-2 score: \", f1)"
   ],
   "metadata": {
    "collapsed": false,
    "pycharm": {
     "name": "#%%\n",
     "is_executing": true
    }
   }
  },
  {
   "cell_type": "code",
   "execution_count": 19,
   "outputs": [
    {
     "name": "stdout",
     "output_type": "stream",
     "text": [
      "updating: model-notebooks/ (stored 0%)\r\n",
      "updating: model-notebooks/metadata/ (stored 0%)\r\n",
      "updating: model-notebooks/metadata/part-00000 (deflated 79%)\r\n",
      "updating: model-notebooks/metadata/.part-00000.crc (stored 0%)\r\n",
      "updating: model-notebooks/metadata/._SUCCESS.crc (stored 0%)\r\n",
      "updating: model-notebooks/metadata/_SUCCESS (stored 0%)\r\n",
      "  adding: model-notebooks/bestModel/ (stored 0%)\r\n",
      "  adding: model-notebooks/bestModel/data/ (stored 0%)\r\n",
      "  adding: model-notebooks/bestModel/data/.part-00000-111c5853-e320-40e3-875a-a4edf9407f22-c000.snappy.parquet.crc (stored 0%)\r\n",
      "  adding: model-notebooks/bestModel/data/._SUCCESS.crc (stored 0%)\r\n",
      "  adding: model-notebooks/bestModel/data/part-00000-111c5853-e320-40e3-875a-a4edf9407f22-c000.snappy.parquet (deflated 43%)\r\n",
      "  adding: model-notebooks/bestModel/data/_SUCCESS (stored 0%)\r\n",
      "  adding: model-notebooks/bestModel/metadata/ (stored 0%)\r\n",
      "  adding: model-notebooks/bestModel/metadata/.part-00000.crc (stored 0%)\r\n",
      "  adding: model-notebooks/bestModel/metadata/part-00000 (deflated 45%)\r\n",
      "  adding: model-notebooks/bestModel/metadata/._SUCCESS.crc (stored 0%)\r\n",
      "  adding: model-notebooks/bestModel/metadata/_SUCCESS (stored 0%)\r\n",
      "  adding: model-notebooks/estimator/ (stored 0%)\r\n",
      "  adding: model-notebooks/estimator/metadata/ (stored 0%)\r\n",
      "  adding: model-notebooks/estimator/metadata/.part-00000.crc (stored 0%)\r\n",
      "  adding: model-notebooks/estimator/metadata/part-00000 (deflated 45%)\r\n",
      "  adding: model-notebooks/estimator/metadata/._SUCCESS.crc (stored 0%)\r\n",
      "  adding: model-notebooks/estimator/metadata/_SUCCESS (stored 0%)\r\n",
      "  adding: model-notebooks/evaluator/ (stored 0%)\r\n",
      "  adding: model-notebooks/evaluator/metadata/ (stored 0%)\r\n",
      "  adding: model-notebooks/evaluator/metadata/.part-00000.crc (stored 0%)\r\n",
      "  adding: model-notebooks/evaluator/metadata/part-00000 (deflated 45%)\r\n",
      "  adding: model-notebooks/evaluator/metadata/._SUCCESS.crc (stored 0%)\r\n",
      "  adding: model-notebooks/evaluator/metadata/_SUCCESS (stored 0%)\r\n"
     ]
    }
   ],
   "source": [
    "#estimator_2.save(\"model-notebooks\")\n",
    "!zip -r models.zip model-notebooks"
   ],
   "metadata": {
    "collapsed": false,
    "pycharm": {
     "name": "#%%\n"
    }
   }
  },
  {
   "cell_type": "code",
   "execution_count": 18,
   "outputs": [
    {
     "data": {
      "text/plain": "1.5476190476190477"
     },
     "execution_count": 18,
     "metadata": {},
     "output_type": "execute_result"
    }
   ],
   "source": [
    "estimator_2.bestModel.getThreshold()\n",
    "\n"
   ],
   "metadata": {
    "collapsed": false,
    "pycharm": {
     "name": "#%%\n"
    }
   }
  }
 ],
 "metadata": {
  "kernelspec": {
   "name": "pycharm-a2066b67",
   "language": "python",
   "display_name": "PyCharm (sigmod-2021)"
  },
  "language_info": {
   "codemirror_mode": {
    "name": "ipython",
    "version": 2
   },
   "file_extension": ".py",
   "mimetype": "text/x-python",
   "name": "python",
   "nbconvert_exporter": "python",
   "pygments_lexer": "ipython2",
   "version": "2.7.6"
  }
 },
 "nbformat": 4,
 "nbformat_minor": 0
}