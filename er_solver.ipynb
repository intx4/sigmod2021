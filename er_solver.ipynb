{
 "cells": [
  {
   "cell_type": "markdown",
   "source": [
    "Part 0 - Load data"
   ],
   "metadata": {
    "collapsed": false
   }
  },
  {
   "cell_type": "code",
   "execution_count": 2,
   "outputs": [
    {
     "name": "stdout",
     "output_type": "stream",
     "text": [
      "Index(['instance_id', 'brand', 'cpu_brand', 'cpu_model', 'cpu_type',\n",
      "       'cpu_frequency', 'ram_capacity', 'ram_type', 'ram_frequency',\n",
      "       'hdd_capacity', 'ssd_capacity', 'weight', 'dimensions', 'title'],\n",
      "      dtype='object')\n",
      "Index(['left_instance_id', 'right_instance_id', 'label'], dtype='object')\n"
     ]
    }
   ],
   "source": [
    "import pandas as pd\n",
    "import pyspark as spark\n",
    "\n",
    "\n",
    "df = pd.read_csv('./data/X2.csv', header=0)\n",
    "matches = pd.read_csv('./data/Y2.csv', header=0)\n",
    "\n",
    "#print(df.keys())\n",
    "#print(matches.keys())\n",
    "\n"
   ],
   "metadata": {
    "collapsed": false,
    "pycharm": {
     "name": "#%%\n"
    }
   }
  }
 ],
 "metadata": {
  "kernelspec": {
   "name": "pycharm-a2066b67",
   "language": "python",
   "display_name": "PyCharm (sigmod-2021)"
  },
  "language_info": {
   "codemirror_mode": {
    "name": "ipython",
    "version": 2
   },
   "file_extension": ".py",
   "mimetype": "text/x-python",
   "name": "python",
   "nbconvert_exporter": "python",
   "pygments_lexer": "ipython2",
   "version": "2.7.6"
  }
 },
 "nbformat": 4,
 "nbformat_minor": 0
}