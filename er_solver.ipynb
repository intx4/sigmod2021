{
 "cells": [
  {
   "cell_type": "markdown",
   "metadata": {},
   "source": [
    "# 0. Load data"
   ]
  },
  {
   "cell_type": "code",
   "execution_count": null,
   "metadata": {
    "pycharm": {
     "name": "#%%\n"
    }
   },
   "outputs": [],
   "source": [
    "from pyspark.sql import SparkSession\n",
    "from pyspark.sql import functions as f\n",
    "from pyspark.sql import types as t\n",
    "from pyspark.ml.feature import HashingTF, IDF, Tokenizer, RegexTokenizer, CountVectorizer, StopWordsRemover, NGram, Normalizer, VectorAssembler, Word2Vec, Word2VecModel, PCA\n",
    "\n",
    "spark = SparkSession.builder.getOrCreate()"
   ]
  },
  {
   "cell_type": "code",
   "execution_count": null,
   "metadata": {
    "pycharm": {
     "name": "#%%\n"
    }
   },
   "outputs": [],
   "source": [
    "df = spark.read.csv(\"data/X2.csv\", header=True)\n",
    "df.toPandas()"
   ]
  },
  {
   "cell_type": "markdown",
   "metadata": {
    "pycharm": {
     "name": "#%% md\n"
    }
   },
   "source": [
    "# 0 Cleaning"
   ]
  },
  {
   "cell_type": "code",
   "execution_count": null,
   "metadata": {
    "pycharm": {
     "name": "#%%\n"
    }
   },
   "outputs": [],
   "source": [
    "df = spark.read.csv(\"data/X2.csv\", header=True)\n",
    "for c in df.columns:\n",
    "    df = df.withColumn(c, f.lower(f.col(c)))\n",
    "df = df.withColumn('brand', f.regexp_extract('brand', \"^(\\w+)\", 1))\n",
    "df = df.withColumn('cpu_brand', f.regexp_extract('cpu_brand', '(intel|amd|apple)', 1))\n",
    "df = df.withColumn('cpu_model', f.when(df.cpu_brand == 'intel', f.regexp_extract('cpu_model', '(i\\d)', 1)).otherwise(df.cpu_model))\n",
    "df.select('cpu_model').show()"
   ]
  },
  {
   "cell_type": "markdown",
   "metadata": {},
   "source": [
    "# 1. Blocking"
   ]
  },
  {
   "cell_type": "code",
   "execution_count": null,
   "metadata": {},
   "outputs": [],
   "source": [
    "tokenizer = RegexTokenizer(inputCol=\"title\", outputCol=\"title_tokens\", pattern = \"\\\\W\")\n",
    "remover = StopWordsRemover(stopWords=[\"amazon\", \"com\"], inputCol=\"title_tokens\", outputCol=\"title_tokens_nosw\")\n",
    "output = tokenizer.transform(df)\n",
    "output = remover.transform(output)\n",
    "output.toPandas()"
   ]
  },
  {
   "cell_type": "code",
   "execution_count": null,
   "metadata": {},
   "outputs": [],
   "source": [
    "def top_kw_from_tfidf(vocab, n=3):\n",
    "  @f.udf(returnType=t.ArrayType(t.StringType()))\n",
    "  def _(arr):\n",
    "    inds = arr.indices\n",
    "    vals = arr.values\n",
    "    top_inds = vals.argsort()[-n:][::-1]\n",
    "    top_keys = inds[top_inds]\n",
    "    output = []\n",
    "\n",
    "    for k in top_keys:\n",
    "      kw = vocab.value[k]\n",
    "      output.append(kw)\n",
    "\n",
    "    return output\n",
    "  return _"
   ]
  },
  {
   "cell_type": "code",
   "execution_count": null,
   "metadata": {
    "pycharm": {
     "name": "#%%\n"
    }
   },
   "outputs": [],
   "source": [
    "cv = CountVectorizer(inputCol=\"title_tokens_nosw\", outputCol=\"raw_features\", minDF=1.0)\n",
    "cvModel = cv.fit(output)\n",
    "featurizedData = cvModel.transform(output)\n",
    "# alternatively, CountVectorizer can also be used to get term frequency vectors\n",
    "\n",
    "idf = IDF(inputCol=\"raw_features\", outputCol=\"features\", minDocFreq=1.0)\n",
    "idfModel = idf.fit(featurizedData)\n",
    "rescaledData = idfModel.transform(featurizedData)\n",
    "\n",
    "vocab = spark.sparkContext.broadcast(cvModel.vocabulary)\n",
    "\n",
    "rescaledData.withColumn('top_tokens', top_kw_from_tfidf(vocab, n=5)(f.col(\"features\"))).select(\"top_tokens\").toPandas()\n",
    "\n",
    "#rescaledData.select(\"title_tokens_nosw\", \"features\").toPandas()"
   ]
  },
  {
   "cell_type": "code",
   "execution_count": null,
   "metadata": {
    "pycharm": {
     "name": "#%%\n"
    }
   },
   "outputs": [],
   "source": [
    "split_col = f.split(df.brand, \" \")\n",
    "df = df.withColumn(\"brand_name\", split_col.getItem(0))\n",
    "df.groupby(df.brand_name).count().show()"
   ]
  },
  {
   "cell_type": "code",
   "execution_count": null,
   "metadata": {
    "pycharm": {
     "name": "#%%\n"
    }
   },
   "outputs": [],
   "source": []
  }
 ],
 "metadata": {
  "kernelspec": {
   "display_name": "Python 3",
   "language": "python",
   "name": "python3"
  },
  "language_info": {
   "codemirror_mode": {
    "name": "ipython",
    "version": 3
   },
   "file_extension": ".py",
   "mimetype": "text/x-python",
   "name": "python",
   "nbconvert_exporter": "python",
   "pygments_lexer": "ipython3",
   "version": "3.8.5"
  }
 },
 "nbformat": 4,
 "nbformat_minor": 4
}