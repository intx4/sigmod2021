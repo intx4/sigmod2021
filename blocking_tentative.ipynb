{
 "cells": [
  {
   "cell_type": "markdown",
   "metadata": {},
   "source": [
    "# 0. Load data"
   ]
  },
  {
   "cell_type": "code",
   "execution_count": 294,
   "metadata": {
    "pycharm": {
     "name": "#%%\n"
    }
   },
   "outputs": [],
   "source": [
    "\n",
    "import tensorflow_hub as hub\n",
    "from pyspark.sql import SparkSession\n",
    "from pyspark.sql import functions as f\n",
    "from pyspark.sql import types as t\n",
    "from pyspark.sql import Window as w\n",
    "\n",
    "from pyspark.ml.linalg import DenseVector, SparseVector\n",
    "from pyspark.ml.feature import HashingTF, IDF,  Tokenizer, RegexTokenizer, CountVectorizer, StopWordsRemover, NGram, Normalizer, VectorAssembler, Word2Vec, Word2VecModel, PCA\n",
    "from pyspark.ml import Pipeline, Transformer\n",
    "from pyspark.ml.clustering import LDA\n",
    "from pyspark.mllib.linalg import Vectors, VectorUDT\n",
    "\n",
    "spark = SparkSession.builder.getOrCreate()"
   ]
  },
  {
   "cell_type": "code",
   "execution_count": 295,
   "metadata": {
    "pycharm": {
     "name": "#%%\n"
    }
   },
   "outputs": [
    {
     "data": {
      "text/plain": "                  instance_id  \\\n0    www.softwarecity.ca//737   \n1    www.isupplyhub.com//1256   \n2     www.isupplyhub.com//326   \n3     www.isupplyhub.com//821   \n4     www.isupplyhub.com//157   \n..                        ...   \n338       www.vology.com//873   \n339       www.vology.com//823   \n340      www.vology.com//2723   \n341      www.vology.com//1349   \n342      www.vology.com//3017   \n\n                                                 brand  \\\n0                                               Lenovo   \n1                                                 Acer   \n2                                                 Acer   \n3                                                   HP   \n4                                                 Asus   \n..                                                 ...   \n338  Lenovo ThinkPad X230 2320 - 12.5 '' - Core i5 ...   \n339  Lenovo ThinkPad X230 2325 - 12.5 '' - Core i5 ...   \n340  Lenovo ThinkPad X230 Tablet 3438 - 12.5 '' - C...   \n341  Lenovo ThinkPad X230 2324 - 12.5 '' - Core i5 ...   \n342  Lenovo ThinkPad X230 2320 - 12.5 '' - Core i7 ...   \n\n                                             cpu_brand  \\\n0                                      Intel. i5-3320M   \n1           1.6 GHz Intel Core i5-4200U. Intel Core I5   \n2                 1.6 GHz Intel Core i5. Intel Core I5   \n3                                                 None   \n4                         1.7 GHz Core i5-3317U. Intel   \n..                                                 ...   \n338  Intel Core i5 ( 3rd Gen ) 3320M / 2.6 GHz. Int...   \n339  Intel Core i5 ( 3rd Gen ) 3320M / 2.6 GHz. Int...   \n340  Intel Core i5 ( 3rd Gen ) 3320M / 2.6 GHz. Int...   \n341  Intel Core i5 ( 3rd Gen ) 3320M / 2.6 GHz. Int...   \n342  Intel Core i7 ( 3rd Gen ) 3520M / 2.9 GHz. Int...   \n\n                                             cpu_model  \\\n0                                             i5-3320M   \n1                                                 None   \n2                                                 None   \n3                                                 None   \n4                                                 None   \n..                                                 ...   \n338  Intel Core i5 ( 3rd Gen ) 3320M / 2.6 GHz. Int...   \n339  Intel Core i5 ( 3rd Gen ) 3320M / 2.6 GHz. Int...   \n340  Intel Core i5 ( 3rd Gen ) 3320M / 2.6 GHz. Int...   \n341  Intel Core i5 ( 3rd Gen ) 3320M / 2.6 GHz. Int...   \n342  Intel Core i7 ( 3rd Gen ) 3520M / 2.9 GHz. Int...   \n\n                                              cpu_type  \\\n0                        Dual-core ( 2 Core ). Core i5   \n1                          1.6 GHz Intel Core i5-4200U   \n2                                1.6 GHz Intel Core i5   \n3                                                 None   \n4                                1.7 GHz Core i5-3317U   \n..                                                 ...   \n338  Intel Core i5 ( 3rd Gen ) 3320M / 2.6 GHz. Int...   \n339  Intel Core i5 ( 3rd Gen ) 3320M / 2.6 GHz. Int...   \n340  Intel Core i5 ( 3rd Gen ) 3320M / 2.6 GHz. Int...   \n341  Intel Core i5 ( 3rd Gen ) 3320M / 2.6 GHz. Int...   \n342  Intel Core i7 ( 3rd Gen ) 3520M / 2.9 GHz. Int...   \n\n                                         cpu_frequency  \\\n0                                             2.60 GHz   \n1                          1.6 GHz Intel Core i5-4200U   \n2                                1.6 GHz Intel Core i5   \n3                                                 None   \n4                                1.7 GHz Core i5-3317U   \n..                                                 ...   \n338  Intel Core i5 ( 3rd Gen ) 3320M / 2.6 GHz. Int...   \n339  Intel Core i5 ( 3rd Gen ) 3320M / 2.6 GHz. Int...   \n340  Intel Core i5 ( 3rd Gen ) 3320M / 2.6 GHz. Int...   \n341  Intel Core i5 ( 3rd Gen ) 3320M / 2.6 GHz. Int...   \n342  Intel Core i7 ( 3rd Gen ) 3520M / 2.9 GHz. Int...   \n\n                                          ram_capacity  \\\n0                                                 None   \n1                                     8 GB DDR3L SDRAM   \n2                                      4 GB DDR3-SDRAM   \n3                                      4 GB SDRAM DDR3   \n4                                            4 GB DDR3   \n..                                                 ...   \n338  4 GB DDR3 Slots Qty 2 Empty Slots 1 Max RAM Su...   \n339  4 GB DDR3 Slots Qty 2 Max RAM Supported 16 GB ...   \n340  Form Factor SO DIMM 204-pin Technology DDR3 SD...   \n341  Form Factor SO DIMM 204-pin Technology DDR3 SD...   \n342  Empty Slots 1 Slots Qty 2 Max RAM Supported 16...   \n\n                                              ram_type  \\\n0          DDR3 SDRAM. DDR3-1600/PC3-12800. DDR3 SDRAM   \n1                         DDR3 SDRAM. 8 GB DDR3L SDRAM   \n2                          DDR3 SDRAM. 4 GB DDR3-SDRAM   \n3                          DDR3 SDRAM. 4 GB SDRAM DDR3   \n4                                DDR3 SDRAM. 4 GB DDR3   \n..                                                 ...   \n338  4 GB DDR3 Slots Qty 2 Empty Slots 1 Max RAM Su...   \n339  4 GB DDR3 Slots Qty 2 Max RAM Supported 16 GB ...   \n340  Form Factor SO DIMM 204-pin Technology DDR3 SD...   \n341  Form Factor SO DIMM 204-pin Technology DDR3 SD...   \n342  Empty Slots 1 Slots Qty 2 Max RAM Supported 16...   \n\n                                         ram_frequency  \\\n0                                  DDR3-1600/PC3-12800   \n1                                                 None   \n2                                                 None   \n3                                                 None   \n4                                                 None   \n..                                                 ...   \n338  4 GB DDR3 Slots Qty 2 Empty Slots 1 Max RAM Su...   \n339  4 GB DDR3 Slots Qty 2 Max RAM Supported 16 GB ...   \n340  Form Factor SO DIMM 204-pin Technology DDR3 SD...   \n341  Form Factor SO DIMM 204-pin Technology DDR3 SD...   \n342  Empty Slots 1 Slots Qty 2 Max RAM Supported 16...   \n\n                                          hdd_capacity  \\\n0                                               320 GB   \n1                         500 GB mechanical_hard_drive   \n2                         500 GB mechanical_hard_drive   \n3                                               500 GB   \n4                                               256 MB   \n..                                                 ...   \n338  180 GB SSD. 180 GB SSD. Lenovo ThinkPad X230 2...   \n339  500 GB HDD / 7200 rpm. 500 GB HDD / 7200 rpm. ...   \n340  500 GB HDD / 7200 rpm. 500 GB HDD / 7200 rpm. ...   \n341  320 GB HDD / 7200 rpm. 320 GB HDD / 7200 rpm. ...   \n342  256 GB SSD - Self Encrypting Drive. 256 GB SSD...   \n\n                                          ssd_capacity           weight  \\\n0                                                 None          1.80 kg   \n1                                                 None       4.8 pounds   \n2                                                 None       5.2 pounds   \n3                                                 None       4.8 pounds   \n4                                                 None       2.9 pounds   \n..                                                 ...              ...   \n338                             180 GB SSD. 180 GB SSD  3.3 lbs 3.3 lbs   \n339       500 GB HDD / 7200 rpm. 500 GB HDD / 7200 rpm  3.3 lbs 3.3 lbs   \n340       500 GB HDD / 7200 rpm. 500 GB HDD / 7200 rpm      4 lbs 4 lbs   \n341       320 GB HDD / 7200 rpm. 320 GB HDD / 7200 rpm  3.3 lbs 3.3 lbs   \n342  256 GB SSD - Self Encrypting Drive. 256 GB SSD...  3.3 lbs 3.3 lbs   \n\n                                     dimensions  \\\n0                                          None   \n1                   15.02 x 10.08 x 0.90 inches   \n2                      15.02 x 10.08 x 1 inches   \n3                   15.18 x 0.89 x 10.16 inches   \n4                    8.80 x 0.70 x 12.80 inches   \n..                                          ...   \n338  8.1 in. 12 in x 8.1 in x 1 in. 1 in. 12 in   \n339  8.1 in. 12 in x 8.1 in x 1 in. 1 in. 12 in   \n340  9 in. 12 in x 9 in x 1.2 in. 1.2 in. 12 in   \n341  8.1 in. 12 in x 8.1 in x 1 in. 1 in. 12 in   \n342  8.1 in. 12 in x 8.1 in x 1 in. 1 in. 12 in   \n\n                                                 title  \n0    \"Lenovo Thinkpad X230 34352jf Tablet Pc - 12.5...  \n1    Amazon.com : Acer Aspire V7-582PG-6479 15.6-In...  \n2    Amazon.com : Acer Aspire E1-572-6870 15.6 Inch...  \n3    \"Amazon.com : 15.6\"\" HP 15-f009wm Amd Dual-Cor...  \n4    Amazon.com : ASUS UX31A-XB52 13.3-Inch Ultrabo...  \n..                                                 ...  \n338  \"Lenovo ThinkPad X230 2320 - 12.5\"\" - Core i5 ...  \n339  \"Lenovo ThinkPad X230 2325 - 12.5\"\" - Core i5 ...  \n340  \"Lenovo ThinkPad X230 Tablet 3438 - 12.5\"\" - C...  \n341  \"Lenovo ThinkPad X230 2324 - 12.5\"\" - Core i5 ...  \n342  \"Lenovo ThinkPad X230 2320 - 12.5\"\" - Core i7 ...  \n\n[343 rows x 14 columns]",
      "text/html": "<div>\n<style scoped>\n    .dataframe tbody tr th:only-of-type {\n        vertical-align: middle;\n    }\n\n    .dataframe tbody tr th {\n        vertical-align: top;\n    }\n\n    .dataframe thead th {\n        text-align: right;\n    }\n</style>\n<table border=\"1\" class=\"dataframe\">\n  <thead>\n    <tr style=\"text-align: right;\">\n      <th></th>\n      <th>instance_id</th>\n      <th>brand</th>\n      <th>cpu_brand</th>\n      <th>cpu_model</th>\n      <th>cpu_type</th>\n      <th>cpu_frequency</th>\n      <th>ram_capacity</th>\n      <th>ram_type</th>\n      <th>ram_frequency</th>\n      <th>hdd_capacity</th>\n      <th>ssd_capacity</th>\n      <th>weight</th>\n      <th>dimensions</th>\n      <th>title</th>\n    </tr>\n  </thead>\n  <tbody>\n    <tr>\n      <th>0</th>\n      <td>www.softwarecity.ca//737</td>\n      <td>Lenovo</td>\n      <td>Intel. i5-3320M</td>\n      <td>i5-3320M</td>\n      <td>Dual-core ( 2 Core ). Core i5</td>\n      <td>2.60 GHz</td>\n      <td>None</td>\n      <td>DDR3 SDRAM. DDR3-1600/PC3-12800. DDR3 SDRAM</td>\n      <td>DDR3-1600/PC3-12800</td>\n      <td>320 GB</td>\n      <td>None</td>\n      <td>1.80 kg</td>\n      <td>None</td>\n      <td>\"Lenovo Thinkpad X230 34352jf Tablet Pc - 12.5...</td>\n    </tr>\n    <tr>\n      <th>1</th>\n      <td>www.isupplyhub.com//1256</td>\n      <td>Acer</td>\n      <td>1.6 GHz Intel Core i5-4200U. Intel Core I5</td>\n      <td>None</td>\n      <td>1.6 GHz Intel Core i5-4200U</td>\n      <td>1.6 GHz Intel Core i5-4200U</td>\n      <td>8 GB DDR3L SDRAM</td>\n      <td>DDR3 SDRAM. 8 GB DDR3L SDRAM</td>\n      <td>None</td>\n      <td>500 GB mechanical_hard_drive</td>\n      <td>None</td>\n      <td>4.8 pounds</td>\n      <td>15.02 x 10.08 x 0.90 inches</td>\n      <td>Amazon.com : Acer Aspire V7-582PG-6479 15.6-In...</td>\n    </tr>\n    <tr>\n      <th>2</th>\n      <td>www.isupplyhub.com//326</td>\n      <td>Acer</td>\n      <td>1.6 GHz Intel Core i5. Intel Core I5</td>\n      <td>None</td>\n      <td>1.6 GHz Intel Core i5</td>\n      <td>1.6 GHz Intel Core i5</td>\n      <td>4 GB DDR3-SDRAM</td>\n      <td>DDR3 SDRAM. 4 GB DDR3-SDRAM</td>\n      <td>None</td>\n      <td>500 GB mechanical_hard_drive</td>\n      <td>None</td>\n      <td>5.2 pounds</td>\n      <td>15.02 x 10.08 x 1 inches</td>\n      <td>Amazon.com : Acer Aspire E1-572-6870 15.6 Inch...</td>\n    </tr>\n    <tr>\n      <th>3</th>\n      <td>www.isupplyhub.com//821</td>\n      <td>HP</td>\n      <td>None</td>\n      <td>None</td>\n      <td>None</td>\n      <td>None</td>\n      <td>4 GB SDRAM DDR3</td>\n      <td>DDR3 SDRAM. 4 GB SDRAM DDR3</td>\n      <td>None</td>\n      <td>500 GB</td>\n      <td>None</td>\n      <td>4.8 pounds</td>\n      <td>15.18 x 0.89 x 10.16 inches</td>\n      <td>\"Amazon.com : 15.6\"\" HP 15-f009wm Amd Dual-Cor...</td>\n    </tr>\n    <tr>\n      <th>4</th>\n      <td>www.isupplyhub.com//157</td>\n      <td>Asus</td>\n      <td>1.7 GHz Core i5-3317U. Intel</td>\n      <td>None</td>\n      <td>1.7 GHz Core i5-3317U</td>\n      <td>1.7 GHz Core i5-3317U</td>\n      <td>4 GB DDR3</td>\n      <td>DDR3 SDRAM. 4 GB DDR3</td>\n      <td>None</td>\n      <td>256 MB</td>\n      <td>None</td>\n      <td>2.9 pounds</td>\n      <td>8.80 x 0.70 x 12.80 inches</td>\n      <td>Amazon.com : ASUS UX31A-XB52 13.3-Inch Ultrabo...</td>\n    </tr>\n    <tr>\n      <th>...</th>\n      <td>...</td>\n      <td>...</td>\n      <td>...</td>\n      <td>...</td>\n      <td>...</td>\n      <td>...</td>\n      <td>...</td>\n      <td>...</td>\n      <td>...</td>\n      <td>...</td>\n      <td>...</td>\n      <td>...</td>\n      <td>...</td>\n      <td>...</td>\n    </tr>\n    <tr>\n      <th>338</th>\n      <td>www.vology.com//873</td>\n      <td>Lenovo ThinkPad X230 2320 - 12.5 '' - Core i5 ...</td>\n      <td>Intel Core i5 ( 3rd Gen ) 3320M / 2.6 GHz. Int...</td>\n      <td>Intel Core i5 ( 3rd Gen ) 3320M / 2.6 GHz. Int...</td>\n      <td>Intel Core i5 ( 3rd Gen ) 3320M / 2.6 GHz. Int...</td>\n      <td>Intel Core i5 ( 3rd Gen ) 3320M / 2.6 GHz. Int...</td>\n      <td>4 GB DDR3 Slots Qty 2 Empty Slots 1 Max RAM Su...</td>\n      <td>4 GB DDR3 Slots Qty 2 Empty Slots 1 Max RAM Su...</td>\n      <td>4 GB DDR3 Slots Qty 2 Empty Slots 1 Max RAM Su...</td>\n      <td>180 GB SSD. 180 GB SSD. Lenovo ThinkPad X230 2...</td>\n      <td>180 GB SSD. 180 GB SSD</td>\n      <td>3.3 lbs 3.3 lbs</td>\n      <td>8.1 in. 12 in x 8.1 in x 1 in. 1 in. 12 in</td>\n      <td>\"Lenovo ThinkPad X230 2320 - 12.5\"\" - Core i5 ...</td>\n    </tr>\n    <tr>\n      <th>339</th>\n      <td>www.vology.com//823</td>\n      <td>Lenovo ThinkPad X230 2325 - 12.5 '' - Core i5 ...</td>\n      <td>Intel Core i5 ( 3rd Gen ) 3320M / 2.6 GHz. Int...</td>\n      <td>Intel Core i5 ( 3rd Gen ) 3320M / 2.6 GHz. Int...</td>\n      <td>Intel Core i5 ( 3rd Gen ) 3320M / 2.6 GHz. Int...</td>\n      <td>Intel Core i5 ( 3rd Gen ) 3320M / 2.6 GHz. Int...</td>\n      <td>4 GB DDR3 Slots Qty 2 Max RAM Supported 16 GB ...</td>\n      <td>4 GB DDR3 Slots Qty 2 Max RAM Supported 16 GB ...</td>\n      <td>4 GB DDR3 Slots Qty 2 Max RAM Supported 16 GB ...</td>\n      <td>500 GB HDD / 7200 rpm. 500 GB HDD / 7200 rpm. ...</td>\n      <td>500 GB HDD / 7200 rpm. 500 GB HDD / 7200 rpm</td>\n      <td>3.3 lbs 3.3 lbs</td>\n      <td>8.1 in. 12 in x 8.1 in x 1 in. 1 in. 12 in</td>\n      <td>\"Lenovo ThinkPad X230 2325 - 12.5\"\" - Core i5 ...</td>\n    </tr>\n    <tr>\n      <th>340</th>\n      <td>www.vology.com//2723</td>\n      <td>Lenovo ThinkPad X230 Tablet 3438 - 12.5 '' - C...</td>\n      <td>Intel Core i5 ( 3rd Gen ) 3320M / 2.6 GHz. Int...</td>\n      <td>Intel Core i5 ( 3rd Gen ) 3320M / 2.6 GHz. Int...</td>\n      <td>Intel Core i5 ( 3rd Gen ) 3320M / 2.6 GHz. Int...</td>\n      <td>Intel Core i5 ( 3rd Gen ) 3320M / 2.6 GHz. Int...</td>\n      <td>Form Factor SO DIMM 204-pin Technology DDR3 SD...</td>\n      <td>Form Factor SO DIMM 204-pin Technology DDR3 SD...</td>\n      <td>Form Factor SO DIMM 204-pin Technology DDR3 SD...</td>\n      <td>500 GB HDD / 7200 rpm. 500 GB HDD / 7200 rpm. ...</td>\n      <td>500 GB HDD / 7200 rpm. 500 GB HDD / 7200 rpm</td>\n      <td>4 lbs 4 lbs</td>\n      <td>9 in. 12 in x 9 in x 1.2 in. 1.2 in. 12 in</td>\n      <td>\"Lenovo ThinkPad X230 Tablet 3438 - 12.5\"\" - C...</td>\n    </tr>\n    <tr>\n      <th>341</th>\n      <td>www.vology.com//1349</td>\n      <td>Lenovo ThinkPad X230 2324 - 12.5 '' - Core i5 ...</td>\n      <td>Intel Core i5 ( 3rd Gen ) 3320M / 2.6 GHz. Int...</td>\n      <td>Intel Core i5 ( 3rd Gen ) 3320M / 2.6 GHz. Int...</td>\n      <td>Intel Core i5 ( 3rd Gen ) 3320M / 2.6 GHz. Int...</td>\n      <td>Intel Core i5 ( 3rd Gen ) 3320M / 2.6 GHz. Int...</td>\n      <td>Form Factor SO DIMM 204-pin Technology DDR3 SD...</td>\n      <td>Form Factor SO DIMM 204-pin Technology DDR3 SD...</td>\n      <td>Form Factor SO DIMM 204-pin Technology DDR3 SD...</td>\n      <td>320 GB HDD / 7200 rpm. 320 GB HDD / 7200 rpm. ...</td>\n      <td>320 GB HDD / 7200 rpm. 320 GB HDD / 7200 rpm</td>\n      <td>3.3 lbs 3.3 lbs</td>\n      <td>8.1 in. 12 in x 8.1 in x 1 in. 1 in. 12 in</td>\n      <td>\"Lenovo ThinkPad X230 2324 - 12.5\"\" - Core i5 ...</td>\n    </tr>\n    <tr>\n      <th>342</th>\n      <td>www.vology.com//3017</td>\n      <td>Lenovo ThinkPad X230 2320 - 12.5 '' - Core i7 ...</td>\n      <td>Intel Core i7 ( 3rd Gen ) 3520M / 2.9 GHz. Int...</td>\n      <td>Intel Core i7 ( 3rd Gen ) 3520M / 2.9 GHz. Int...</td>\n      <td>Intel Core i7 ( 3rd Gen ) 3520M / 2.9 GHz. Int...</td>\n      <td>Intel Core i7 ( 3rd Gen ) 3520M / 2.9 GHz. Int...</td>\n      <td>Empty Slots 1 Slots Qty 2 Max RAM Supported 16...</td>\n      <td>Empty Slots 1 Slots Qty 2 Max RAM Supported 16...</td>\n      <td>Empty Slots 1 Slots Qty 2 Max RAM Supported 16...</td>\n      <td>256 GB SSD - Self Encrypting Drive. 256 GB SSD...</td>\n      <td>256 GB SSD - Self Encrypting Drive. 256 GB SSD...</td>\n      <td>3.3 lbs 3.3 lbs</td>\n      <td>8.1 in. 12 in x 8.1 in x 1 in. 1 in. 12 in</td>\n      <td>\"Lenovo ThinkPad X230 2320 - 12.5\"\" - Core i7 ...</td>\n    </tr>\n  </tbody>\n</table>\n<p>343 rows × 14 columns</p>\n</div>"
     },
     "execution_count": 295,
     "metadata": {},
     "output_type": "execute_result"
    }
   ],
   "source": [
    "df = spark.read.csv(\"data/X2.csv\", header=True)\n",
    "df.toPandas()"
   ]
  },
  {
   "cell_type": "markdown",
   "source": [
    "# 0. Data cleaning"
   ],
   "metadata": {
    "collapsed": false,
    "pycharm": {
     "name": "#%% md\n"
    }
   }
  },
  {
   "cell_type": "code",
   "execution_count": 296,
   "outputs": [
    {
     "name": "stdout",
     "output_type": "stream",
     "text": [
      "+------+\n",
      "| brand|\n",
      "+------+\n",
      "|lenovo|\n",
      "|  acer|\n",
      "|  acer|\n",
      "|    hp|\n",
      "|  asus|\n",
      "|lenovo|\n",
      "|  acer|\n",
      "|  acer|\n",
      "|lenovo|\n",
      "|  acer|\n",
      "|  dell|\n",
      "|  dell|\n",
      "|  dell|\n",
      "|  acer|\n",
      "|  acer|\n",
      "|  acer|\n",
      "|lenovo|\n",
      "|  dell|\n",
      "|  acer|\n",
      "|  acer|\n",
      "+------+\n",
      "only showing top 20 rows\n",
      "\n",
      "+---------+\n",
      "|cpu_model|\n",
      "+---------+\n",
      "|       i5|\n",
      "|     null|\n",
      "|     null|\n",
      "|     null|\n",
      "|     null|\n",
      "|     null|\n",
      "|     null|\n",
      "|     null|\n",
      "|     null|\n",
      "|     null|\n",
      "|     null|\n",
      "|     null|\n",
      "|     null|\n",
      "|     null|\n",
      "|     null|\n",
      "|     null|\n",
      "|     null|\n",
      "|     null|\n",
      "|     null|\n",
      "|     null|\n",
      "+---------+\n",
      "only showing top 20 rows\n",
      "\n"
     ]
    }
   ],
   "source": [
    "for c in df.columns:\n",
    "#set everything to lowercase\n",
    "    df = df.withColumn(c, f.lower(f.col(c)))\n",
    "\n",
    "#extract brand or infer from title\n",
    "df = df.withColumn('brand', f.regexp_extract('brand', \"^(\\w+)\", 1))\n",
    "computer_brands = ['(lenovo', 'acer', 'hp', 'dell', 'asus', 'samsung', 'huawei', 'surface', 'apple)']\n",
    "computer_brands_pattern = '|'.join(computer_brands)\n",
    "df = df.withColumn('brand', f.when( f.regexp_extract('title', computer_brands_pattern, 1)!='', f.regexp_extract('title', computer_brands_pattern, 1))\\\n",
    "                   .otherwise(df.brand))\n",
    "df.select('brand').show()\n",
    "\n",
    "#exctract cpu_brand and infer type if intel\n",
    "cpu_brands = ['(intel', 'apple', 'amd', 'nvidia', 'arm)']\n",
    "cpu_pattern = '|'.join(cpu_brands)\n",
    "df = df.withColumn('cpu_brand', f.when(f.regexp_extract('cpu_brand', cpu_pattern, 1) != '', f.regexp_extract('cpu_brand', cpu_pattern, 1))\\\n",
    "                                       .otherwise(f.regexp_extract('title', cpu_pattern, 1)))\n",
    "df = df.withColumn('cpu_model', f.when(df.cpu_brand == 'intel', f.regexp_extract('cpu_model', '((i\\d)|pentium|celeron)', 1))\\\n",
    "                   .otherwise(df.cpu_model))\n",
    "df.select('cpu_model').show()"
   ],
   "metadata": {
    "collapsed": false,
    "pycharm": {
     "name": "#%%\n"
    }
   }
  },
  {
   "cell_type": "markdown",
   "metadata": {},
   "source": [
    "# 1. Blocking"
   ]
  },
  {
   "cell_type": "code",
   "execution_count": 297,
   "metadata": {
    "pycharm": {
     "name": "#%%\n"
    }
   },
   "outputs": [],
   "source": [
    "\"\"\"UTILITIES\"\"\"\n",
    "\n",
    "\"\"\"Returns the df with tokenized columns with stopwords removed\"\"\"\n",
    "def tokenize(df, string_cols):\n",
    "  output = df\n",
    "  stopW = ['amazon', 'com' , 'computer', 'accessories', 'laptop', 'notebook', 'gb', 'ram', 'hdd', 'sdd', 'cpu', 'hz', 'ghz', 'tb', 'cache', 'ddram', 'dram']\n",
    "  for c in string_cols:\n",
    "    output = output.withColumn('temp', f.coalesce(f.col(c), f.lower(c), f.lit('')))\n",
    "    output.select(c).show()\n",
    "    tokenizer = RegexTokenizer(inputCol='temp', outputCol=c+\"_tokens\", pattern = \"\\\\W\")\n",
    "    remover = StopWordsRemover(inputCol=c+\"_tokens\", outputCol=c+\"_swRemoved\", stopWords=stopW)\n",
    "    output = tokenizer.transform(output)\n",
    "    output = remover.transform(output)\\\n",
    "      .drop('temp', c+\"_tokens\")\n",
    "    output.show()\n",
    "    # output has c+swRemoved columns\n",
    "  return output\n",
    "\n",
    "\"\"\"Selects the n top keywords from the tokens in each row from a vocab(from one col) using TFIDF score\"\"\"\n",
    "def top_kw_from_tfidf(vocab, n=3):\n",
    "  @f.udf(returnType=t.ArrayType(t.StringType()))\n",
    "  def _(arr):\n",
    "    inds = arr.indices\n",
    "    vals = arr.values\n",
    "    top_inds = vals.argsort()[-n:][::-1]\n",
    "    top_keys = inds[top_inds]\n",
    "    output = []\n",
    "\n",
    "    for k in top_keys:\n",
    "      kw = vocab.value[k]\n",
    "      output.append(kw)\n",
    "\n",
    "    return output\n",
    "  return _\n",
    "\n",
    "\"\"\"Selects top n tokens using TFIDF score for each token_cols using above func\"\"\"\n",
    "def tfidf_top_tokens(df, token_cols, min_freq=1):\n",
    "  for c in token_cols:\n",
    "\n",
    "    cv = CountVectorizer(inputCol=c, outputCol=c+\"_RawFeatures\")\n",
    "    cvmodel = cv.fit(df)\n",
    "    df_vect = cvmodel.transform(df)\n",
    "\n",
    "    idf = IDF(inputCol=c+\"_RawFeatures\", outputCol=c+\"_features\", minDocFreq=min_freq)\n",
    "    idfModel = idf.fit(df_vect)\n",
    "    df_idf= idfModel.transform(df_vect)\n",
    "\n",
    "    normalizer = Normalizer(p=2.0, inputCol=c+'_features', outputCol=c+'_tfidf')\n",
    "    output = normalizer.transform(df_idf)\n",
    "\n",
    "    corpus = output.select(c+'_tfidf').rdd.zipWithIndex()\n",
    "    corpus.foreach(lambda t : (t[1],t[0])) #\n",
    "\n",
    "    lda = LDA(k=10, maxIter=100, featuresCol=c+'_tfidf')\n",
    "    lda_model = lda.fit(output)\n",
    "    vocab = cvmodel.vocabulary\n",
    "\n",
    "    def get_words(token_list):\n",
    "        return [vocab[token_id] for token_id in token_list]\n",
    "\n",
    "    udf_to_words = f.udf(get_words, t.ArrayType(t.StringType()))\n",
    "\n",
    "    topics = lda_model.describeTopics(5).withColumn('topicWords', udf_to_words(f.col('termIndices')))\\\n",
    "        .show()\n",
    "\n",
    "  return output\n",
    "\n",
    "\"\"\"Use universal sentence encoder from tensorflow_hub\"\"\"\n",
    "MODEL = None\n",
    "def get_model_magic():\n",
    "  global MODEL\n",
    "  if MODEL is None:\n",
    "      MODEL = hub.load(\"https://tfhub.dev/google/universal-sentence-encoder/4\")\n",
    "  return MODEL\n",
    "\n",
    "@f.udf(returnType=VectorUDT())\n",
    "def encode_sentence(x):\n",
    "  model = get_model_magic()\n",
    "  emb = model([x]).numpy()[0]\n",
    "  return Vectors.dense(emb)"
   ]
  },
  {
   "cell_type": "code",
   "execution_count": 298,
   "outputs": [
    {
     "name": "stdout",
     "output_type": "stream",
     "text": [
      "+--------------------+\n",
      "|               title|\n",
      "+--------------------+\n",
      "|\"lenovo thinkpad ...|\n",
      "|amazon.com : acer...|\n",
      "|amazon.com : acer...|\n",
      "|\"amazon.com : 15....|\n",
      "|amazon.com : asus...|\n",
      "|amazon.com : leno...|\n",
      "|amazon.com : acer...|\n",
      "|amazon.com : acer...|\n",
      "|amazon.com : leno...|\n",
      "|amazon.com : acer...|\n",
      "|amazon.com : dell...|\n",
      "|amazon.com : dell...|\n",
      "|amazon.com : dell...|\n",
      "|amazon.com : acer...|\n",
      "|amazon.com : acer...|\n",
      "|amazon.com : acer...|\n",
      "|\"amazon.com : len...|\n",
      "|amazon.com : dell...|\n",
      "|amazon.com : acer...|\n",
      "|amazon.com : acer...|\n",
      "+--------------------+\n",
      "only showing top 20 rows\n",
      "\n",
      "+--------------------+------+---------+---------+--------------------+--------------------+-----------------+--------------------+-------------------+--------------------+------------+--------------------+--------------------+--------------------+--------------------+\n",
      "|         instance_id| brand|cpu_brand|cpu_model|            cpu_type|       cpu_frequency|     ram_capacity|            ram_type|      ram_frequency|        hdd_capacity|ssd_capacity|              weight|          dimensions|               title|     title_swRemoved|\n",
      "+--------------------+------+---------+---------+--------------------+--------------------+-----------------+--------------------+-------------------+--------------------+------------+--------------------+--------------------+--------------------+--------------------+\n",
      "|www.softwarecity....|lenovo|    intel|       i5|dual-core ( 2 cor...|            2.60 ghz|             null|ddr3 sdram. ddr3-...|ddr3-1600/pc3-12800|              320 gb|        null|             1.80 kg|                null|\"lenovo thinkpad ...|[lenovo, thinkpad...|\n",
      "|www.isupplyhub.co...|  acer|    intel|     null|1.6 ghz intel cor...|1.6 ghz intel cor...| 8 gb ddr3l sdram|ddr3 sdram. 8 gb ...|               null|500 gb mechanical...|        null|          4.8 pounds|15.02 x 10.08 x 0...|amazon.com : acer...|[acer, aspire, v7...|\n",
      "|www.isupplyhub.co...|  acer|    intel|     null|1.6 ghz intel cor...|1.6 ghz intel cor...|  4 gb ddr3-sdram|ddr3 sdram. 4 gb ...|               null|500 gb mechanical...|        null|          5.2 pounds|15.02 x 10.08 x 1...|amazon.com : acer...|[acer, aspire, e1...|\n",
      "|www.isupplyhub.co...|    hp|      amd|     null|                null|                null|  4 gb sdram ddr3|ddr3 sdram. 4 gb ...|               null|              500 gb|        null|          4.8 pounds|15.18 x 0.89 x 10...|\"amazon.com : 15....|[15, 6, hp, 15, f...|\n",
      "|www.isupplyhub.co...|  asus|    intel|     null|1.7 ghz core i5-3...|1.7 ghz core i5-3...|        4 gb ddr3|ddr3 sdram. 4 gb ...|               null|              256 mb|        null|          2.9 pounds|8.80 x 0.70 x 12....|amazon.com : asus...|[asus, ux31a, xb5...|\n",
      "|www.isupplyhub.co...|lenovo|    intel|     null|       intel core i7|       intel core i7|             3 gb|                3 gb|               null|              160 gb|        null|                null|                null|amazon.com : leno...|[lenovo, 3093b51,...|\n",
      "|www.isupplyhub.co...|  acer|    intel|     null|2.6 ghz core i5 3...|2.6 ghz core i5 3...|        6 gb ddr3|ddr3 sdram. 6 gb ...|               null|              500 gb|        null|          7.1 pounds|16.30 x 10.80 x 1...|amazon.com : acer...|[acer, aspire, nx...|\n",
      "|www.isupplyhub.co...|  acer|    intel|     null|                null|                null|       12 gb ddr3|          12 gb ddr3|               null|1 tb flash_memory...|        null|           16 pounds|                null|amazon.com : acer...|[acer, aspire, v3...|\n",
      "|www.isupplyhub.co...|lenovo|    intel|     null|       intel core i7|       intel core i7|             3 gb|                3 gb|               null|              160 gb|        null|                null|                null|amazon.com : leno...|[lenovo, 3093b65,...|\n",
      "|www.isupplyhub.co...|  acer|    intel|     null| 2 ghz intel core i7| 2 ghz intel core i7| 8 gb ddr3l sdram|    8 gb ddr3l sdram|               null|        1000 gb sata|        null|          6.1 pounds|15.02 x 10.08 x 1...|amazon.com : acer...|[acer, aspire, v3...|\n",
      "|www.isupplyhub.co...|  dell|    intel|     null| 2 ghz intel core i7| 2 ghz intel core i7| 8 gb ddr3l sdram|ddr3 sdram. 8 gb ...|               null|1024 gb mechanica...|        null|            6 pounds|19.29 x 13.15 x 3...|amazon.com : dell...|[dell, inspiron, ...|\n",
      "|www.isupplyhub.co...|  dell|      amd|     null|          0 mhz 8032|          0 mhz 8032|             0 gb|                0 gb|               null|0 gb mechanical_h...|        null|          8.7 pounds|  17 x 20 x 4 inches|amazon.com : dell...|[dell, inspiron, ...|\n",
      "|www.isupplyhub.co...|  dell|    intel|     null| 2 ghz intel core i7| 2 ghz intel core i7|16 gb ddr3l sdram|ddr3 sdram. 16 gb...|               null|1024 gb mechanica...|        null|            6 pounds|19.29 x 13.15 x 3...|amazon.com : dell...|[dell, inspiron, ...|\n",
      "|www.isupplyhub.co...|  acer|    intel|     null| 2 ghz intel core i7| 2 ghz intel core i7| 8 gb ddr3l sdram|    8 gb ddr3l sdram|               null|        1000 gb sata|        null|5.6 pounds. 7 pou...|15.02 x 10.08 x 1...|amazon.com : acer...|[acer, aspire, v3...|\n",
      "|www.isupplyhub.co...|  acer|    intel|     null|2.16 ghz intel ce...|2.16 ghz intel ce...| 2 gb ddr3l sdram|ddr3 sdram. 2 gb ...|               null|         320 gb sata|        null|          2.8 pounds|11.46 x 8.31 x 0....|amazon.com : acer...|[acer, aspire, e3...|\n",
      "|www.isupplyhub.co...|  acer|    intel|     null|    2.16 ghz pentium|    2.16 ghz pentium| 4 gb ddr3l sdram|ddr3 sdram. 4 gb ...|               null|         500 gb sata|        null|          3.1 pounds|11.46 x 8.31 x 0....|amazon.com : acer...|[acer, aspire, v3...|\n",
      "|www.isupplyhub.co...|lenovo|    intel|     null|                null|                null|  4 gb sdram ddr3|ddr3 sdram. 4 gb ...|               null|320 gb mechanical...|        null|            3 pounds|12.01 x 0.80 x 8....|\"amazon.com : len...|[lenovo, thinkpad...|\n",
      "|www.isupplyhub.co...|  dell|    intel|     null|1.7 ghz intel cor...|1.7 ghz intel cor...| 6 gb ddr3l sdram|ddr3 sdram. 6 gb ...|               null|             1024 gb|        null|6 pounds. 7.4 pou...|19.29 x 13.15 x 3...|amazon.com : dell...|[dell, inspiron, ...|\n",
      "|www.isupplyhub.co...|  acer|    intel|     null|1.6 ghz intel cor...|1.6 ghz intel cor...| 8 gb ddr3l sdram|    8 gb ddr3l sdram|               null|500 gb mechanical...|        null|          4.4 pounds|13.39 x 9.45 x 0....|amazon.com : acer...|[acer, aspire, v7...|\n",
      "|www.isupplyhub.co...|  acer|    intel|     null|2.4 ghz core i3-3...|2.4 ghz core i3-3...|        6 gb ddr3|ddr3 sdram. 6 gb ...|               null|              500 gb|        null|          7.1 pounds|16.30 x 10.80 x 1...|amazon.com : acer...|[acer, aspire, nx...|\n",
      "+--------------------+------+---------+---------+--------------------+--------------------+-----------------+--------------------+-------------------+--------------------+------------+--------------------+--------------------+--------------------+--------------------+\n",
      "only showing top 20 rows\n",
      "\n",
      "+------+\n",
      "| brand|\n",
      "+------+\n",
      "|lenovo|\n",
      "|  acer|\n",
      "|  acer|\n",
      "|    hp|\n",
      "|  asus|\n",
      "|lenovo|\n",
      "|  acer|\n",
      "|  acer|\n",
      "|lenovo|\n",
      "|  acer|\n",
      "|  dell|\n",
      "|  dell|\n",
      "|  dell|\n",
      "|  acer|\n",
      "|  acer|\n",
      "|  acer|\n",
      "|lenovo|\n",
      "|  dell|\n",
      "|  acer|\n",
      "|  acer|\n",
      "+------+\n",
      "only showing top 20 rows\n",
      "\n",
      "+--------------------+------+---------+---------+--------------------+--------------------+-----------------+--------------------+-------------------+--------------------+------------+--------------------+--------------------+--------------------+--------------------+---------------+\n",
      "|         instance_id| brand|cpu_brand|cpu_model|            cpu_type|       cpu_frequency|     ram_capacity|            ram_type|      ram_frequency|        hdd_capacity|ssd_capacity|              weight|          dimensions|               title|     title_swRemoved|brand_swRemoved|\n",
      "+--------------------+------+---------+---------+--------------------+--------------------+-----------------+--------------------+-------------------+--------------------+------------+--------------------+--------------------+--------------------+--------------------+---------------+\n",
      "|www.softwarecity....|lenovo|    intel|       i5|dual-core ( 2 cor...|            2.60 ghz|             null|ddr3 sdram. ddr3-...|ddr3-1600/pc3-12800|              320 gb|        null|             1.80 kg|                null|\"lenovo thinkpad ...|[lenovo, thinkpad...|       [lenovo]|\n",
      "|www.isupplyhub.co...|  acer|    intel|     null|1.6 ghz intel cor...|1.6 ghz intel cor...| 8 gb ddr3l sdram|ddr3 sdram. 8 gb ...|               null|500 gb mechanical...|        null|          4.8 pounds|15.02 x 10.08 x 0...|amazon.com : acer...|[acer, aspire, v7...|         [acer]|\n",
      "|www.isupplyhub.co...|  acer|    intel|     null|1.6 ghz intel cor...|1.6 ghz intel cor...|  4 gb ddr3-sdram|ddr3 sdram. 4 gb ...|               null|500 gb mechanical...|        null|          5.2 pounds|15.02 x 10.08 x 1...|amazon.com : acer...|[acer, aspire, e1...|         [acer]|\n",
      "|www.isupplyhub.co...|    hp|      amd|     null|                null|                null|  4 gb sdram ddr3|ddr3 sdram. 4 gb ...|               null|              500 gb|        null|          4.8 pounds|15.18 x 0.89 x 10...|\"amazon.com : 15....|[15, 6, hp, 15, f...|           [hp]|\n",
      "|www.isupplyhub.co...|  asus|    intel|     null|1.7 ghz core i5-3...|1.7 ghz core i5-3...|        4 gb ddr3|ddr3 sdram. 4 gb ...|               null|              256 mb|        null|          2.9 pounds|8.80 x 0.70 x 12....|amazon.com : asus...|[asus, ux31a, xb5...|         [asus]|\n",
      "|www.isupplyhub.co...|lenovo|    intel|     null|       intel core i7|       intel core i7|             3 gb|                3 gb|               null|              160 gb|        null|                null|                null|amazon.com : leno...|[lenovo, 3093b51,...|       [lenovo]|\n",
      "|www.isupplyhub.co...|  acer|    intel|     null|2.6 ghz core i5 3...|2.6 ghz core i5 3...|        6 gb ddr3|ddr3 sdram. 6 gb ...|               null|              500 gb|        null|          7.1 pounds|16.30 x 10.80 x 1...|amazon.com : acer...|[acer, aspire, nx...|         [acer]|\n",
      "|www.isupplyhub.co...|  acer|    intel|     null|                null|                null|       12 gb ddr3|          12 gb ddr3|               null|1 tb flash_memory...|        null|           16 pounds|                null|amazon.com : acer...|[acer, aspire, v3...|         [acer]|\n",
      "|www.isupplyhub.co...|lenovo|    intel|     null|       intel core i7|       intel core i7|             3 gb|                3 gb|               null|              160 gb|        null|                null|                null|amazon.com : leno...|[lenovo, 3093b65,...|       [lenovo]|\n",
      "|www.isupplyhub.co...|  acer|    intel|     null| 2 ghz intel core i7| 2 ghz intel core i7| 8 gb ddr3l sdram|    8 gb ddr3l sdram|               null|        1000 gb sata|        null|          6.1 pounds|15.02 x 10.08 x 1...|amazon.com : acer...|[acer, aspire, v3...|         [acer]|\n",
      "|www.isupplyhub.co...|  dell|    intel|     null| 2 ghz intel core i7| 2 ghz intel core i7| 8 gb ddr3l sdram|ddr3 sdram. 8 gb ...|               null|1024 gb mechanica...|        null|            6 pounds|19.29 x 13.15 x 3...|amazon.com : dell...|[dell, inspiron, ...|         [dell]|\n",
      "|www.isupplyhub.co...|  dell|      amd|     null|          0 mhz 8032|          0 mhz 8032|             0 gb|                0 gb|               null|0 gb mechanical_h...|        null|          8.7 pounds|  17 x 20 x 4 inches|amazon.com : dell...|[dell, inspiron, ...|         [dell]|\n",
      "|www.isupplyhub.co...|  dell|    intel|     null| 2 ghz intel core i7| 2 ghz intel core i7|16 gb ddr3l sdram|ddr3 sdram. 16 gb...|               null|1024 gb mechanica...|        null|            6 pounds|19.29 x 13.15 x 3...|amazon.com : dell...|[dell, inspiron, ...|         [dell]|\n",
      "|www.isupplyhub.co...|  acer|    intel|     null| 2 ghz intel core i7| 2 ghz intel core i7| 8 gb ddr3l sdram|    8 gb ddr3l sdram|               null|        1000 gb sata|        null|5.6 pounds. 7 pou...|15.02 x 10.08 x 1...|amazon.com : acer...|[acer, aspire, v3...|         [acer]|\n",
      "|www.isupplyhub.co...|  acer|    intel|     null|2.16 ghz intel ce...|2.16 ghz intel ce...| 2 gb ddr3l sdram|ddr3 sdram. 2 gb ...|               null|         320 gb sata|        null|          2.8 pounds|11.46 x 8.31 x 0....|amazon.com : acer...|[acer, aspire, e3...|         [acer]|\n",
      "|www.isupplyhub.co...|  acer|    intel|     null|    2.16 ghz pentium|    2.16 ghz pentium| 4 gb ddr3l sdram|ddr3 sdram. 4 gb ...|               null|         500 gb sata|        null|          3.1 pounds|11.46 x 8.31 x 0....|amazon.com : acer...|[acer, aspire, v3...|         [acer]|\n",
      "|www.isupplyhub.co...|lenovo|    intel|     null|                null|                null|  4 gb sdram ddr3|ddr3 sdram. 4 gb ...|               null|320 gb mechanical...|        null|            3 pounds|12.01 x 0.80 x 8....|\"amazon.com : len...|[lenovo, thinkpad...|       [lenovo]|\n",
      "|www.isupplyhub.co...|  dell|    intel|     null|1.7 ghz intel cor...|1.7 ghz intel cor...| 6 gb ddr3l sdram|ddr3 sdram. 6 gb ...|               null|             1024 gb|        null|6 pounds. 7.4 pou...|19.29 x 13.15 x 3...|amazon.com : dell...|[dell, inspiron, ...|         [dell]|\n",
      "|www.isupplyhub.co...|  acer|    intel|     null|1.6 ghz intel cor...|1.6 ghz intel cor...| 8 gb ddr3l sdram|    8 gb ddr3l sdram|               null|500 gb mechanical...|        null|          4.4 pounds|13.39 x 9.45 x 0....|amazon.com : acer...|[acer, aspire, v7...|         [acer]|\n",
      "|www.isupplyhub.co...|  acer|    intel|     null|2.4 ghz core i3-3...|2.4 ghz core i3-3...|        6 gb ddr3|ddr3 sdram. 6 gb ...|               null|              500 gb|        null|          7.1 pounds|16.30 x 10.80 x 1...|amazon.com : acer...|[acer, aspire, nx...|         [acer]|\n",
      "+--------------------+------+---------+---------+--------------------+--------------------+-----------------+--------------------+-------------------+--------------------+------------+--------------------+--------------------+--------------------+--------------------+---------------+\n",
      "only showing top 20 rows\n",
      "\n",
      "+---------+\n",
      "|cpu_brand|\n",
      "+---------+\n",
      "|    intel|\n",
      "|    intel|\n",
      "|    intel|\n",
      "|      amd|\n",
      "|    intel|\n",
      "|    intel|\n",
      "|    intel|\n",
      "|    intel|\n",
      "|    intel|\n",
      "|    intel|\n",
      "|    intel|\n",
      "|      amd|\n",
      "|    intel|\n",
      "|    intel|\n",
      "|    intel|\n",
      "|    intel|\n",
      "|    intel|\n",
      "|    intel|\n",
      "|    intel|\n",
      "|    intel|\n",
      "+---------+\n",
      "only showing top 20 rows\n",
      "\n",
      "+--------------------+------+---------+---------+--------------------+--------------------+-----------------+--------------------+-------------------+--------------------+------------+--------------------+--------------------+--------------------+--------------------+---------------+-------------------+\n",
      "|         instance_id| brand|cpu_brand|cpu_model|            cpu_type|       cpu_frequency|     ram_capacity|            ram_type|      ram_frequency|        hdd_capacity|ssd_capacity|              weight|          dimensions|               title|     title_swRemoved|brand_swRemoved|cpu_brand_swRemoved|\n",
      "+--------------------+------+---------+---------+--------------------+--------------------+-----------------+--------------------+-------------------+--------------------+------------+--------------------+--------------------+--------------------+--------------------+---------------+-------------------+\n",
      "|www.softwarecity....|lenovo|    intel|       i5|dual-core ( 2 cor...|            2.60 ghz|             null|ddr3 sdram. ddr3-...|ddr3-1600/pc3-12800|              320 gb|        null|             1.80 kg|                null|\"lenovo thinkpad ...|[lenovo, thinkpad...|       [lenovo]|            [intel]|\n",
      "|www.isupplyhub.co...|  acer|    intel|     null|1.6 ghz intel cor...|1.6 ghz intel cor...| 8 gb ddr3l sdram|ddr3 sdram. 8 gb ...|               null|500 gb mechanical...|        null|          4.8 pounds|15.02 x 10.08 x 0...|amazon.com : acer...|[acer, aspire, v7...|         [acer]|            [intel]|\n",
      "|www.isupplyhub.co...|  acer|    intel|     null|1.6 ghz intel cor...|1.6 ghz intel cor...|  4 gb ddr3-sdram|ddr3 sdram. 4 gb ...|               null|500 gb mechanical...|        null|          5.2 pounds|15.02 x 10.08 x 1...|amazon.com : acer...|[acer, aspire, e1...|         [acer]|            [intel]|\n",
      "|www.isupplyhub.co...|    hp|      amd|     null|                null|                null|  4 gb sdram ddr3|ddr3 sdram. 4 gb ...|               null|              500 gb|        null|          4.8 pounds|15.18 x 0.89 x 10...|\"amazon.com : 15....|[15, 6, hp, 15, f...|           [hp]|              [amd]|\n",
      "|www.isupplyhub.co...|  asus|    intel|     null|1.7 ghz core i5-3...|1.7 ghz core i5-3...|        4 gb ddr3|ddr3 sdram. 4 gb ...|               null|              256 mb|        null|          2.9 pounds|8.80 x 0.70 x 12....|amazon.com : asus...|[asus, ux31a, xb5...|         [asus]|            [intel]|\n",
      "|www.isupplyhub.co...|lenovo|    intel|     null|       intel core i7|       intel core i7|             3 gb|                3 gb|               null|              160 gb|        null|                null|                null|amazon.com : leno...|[lenovo, 3093b51,...|       [lenovo]|            [intel]|\n",
      "|www.isupplyhub.co...|  acer|    intel|     null|2.6 ghz core i5 3...|2.6 ghz core i5 3...|        6 gb ddr3|ddr3 sdram. 6 gb ...|               null|              500 gb|        null|          7.1 pounds|16.30 x 10.80 x 1...|amazon.com : acer...|[acer, aspire, nx...|         [acer]|            [intel]|\n",
      "|www.isupplyhub.co...|  acer|    intel|     null|                null|                null|       12 gb ddr3|          12 gb ddr3|               null|1 tb flash_memory...|        null|           16 pounds|                null|amazon.com : acer...|[acer, aspire, v3...|         [acer]|            [intel]|\n",
      "|www.isupplyhub.co...|lenovo|    intel|     null|       intel core i7|       intel core i7|             3 gb|                3 gb|               null|              160 gb|        null|                null|                null|amazon.com : leno...|[lenovo, 3093b65,...|       [lenovo]|            [intel]|\n",
      "|www.isupplyhub.co...|  acer|    intel|     null| 2 ghz intel core i7| 2 ghz intel core i7| 8 gb ddr3l sdram|    8 gb ddr3l sdram|               null|        1000 gb sata|        null|          6.1 pounds|15.02 x 10.08 x 1...|amazon.com : acer...|[acer, aspire, v3...|         [acer]|            [intel]|\n",
      "|www.isupplyhub.co...|  dell|    intel|     null| 2 ghz intel core i7| 2 ghz intel core i7| 8 gb ddr3l sdram|ddr3 sdram. 8 gb ...|               null|1024 gb mechanica...|        null|            6 pounds|19.29 x 13.15 x 3...|amazon.com : dell...|[dell, inspiron, ...|         [dell]|            [intel]|\n",
      "|www.isupplyhub.co...|  dell|      amd|     null|          0 mhz 8032|          0 mhz 8032|             0 gb|                0 gb|               null|0 gb mechanical_h...|        null|          8.7 pounds|  17 x 20 x 4 inches|amazon.com : dell...|[dell, inspiron, ...|         [dell]|              [amd]|\n",
      "|www.isupplyhub.co...|  dell|    intel|     null| 2 ghz intel core i7| 2 ghz intel core i7|16 gb ddr3l sdram|ddr3 sdram. 16 gb...|               null|1024 gb mechanica...|        null|            6 pounds|19.29 x 13.15 x 3...|amazon.com : dell...|[dell, inspiron, ...|         [dell]|            [intel]|\n",
      "|www.isupplyhub.co...|  acer|    intel|     null| 2 ghz intel core i7| 2 ghz intel core i7| 8 gb ddr3l sdram|    8 gb ddr3l sdram|               null|        1000 gb sata|        null|5.6 pounds. 7 pou...|15.02 x 10.08 x 1...|amazon.com : acer...|[acer, aspire, v3...|         [acer]|            [intel]|\n",
      "|www.isupplyhub.co...|  acer|    intel|     null|2.16 ghz intel ce...|2.16 ghz intel ce...| 2 gb ddr3l sdram|ddr3 sdram. 2 gb ...|               null|         320 gb sata|        null|          2.8 pounds|11.46 x 8.31 x 0....|amazon.com : acer...|[acer, aspire, e3...|         [acer]|            [intel]|\n",
      "|www.isupplyhub.co...|  acer|    intel|     null|    2.16 ghz pentium|    2.16 ghz pentium| 4 gb ddr3l sdram|ddr3 sdram. 4 gb ...|               null|         500 gb sata|        null|          3.1 pounds|11.46 x 8.31 x 0....|amazon.com : acer...|[acer, aspire, v3...|         [acer]|            [intel]|\n",
      "|www.isupplyhub.co...|lenovo|    intel|     null|                null|                null|  4 gb sdram ddr3|ddr3 sdram. 4 gb ...|               null|320 gb mechanical...|        null|            3 pounds|12.01 x 0.80 x 8....|\"amazon.com : len...|[lenovo, thinkpad...|       [lenovo]|            [intel]|\n",
      "|www.isupplyhub.co...|  dell|    intel|     null|1.7 ghz intel cor...|1.7 ghz intel cor...| 6 gb ddr3l sdram|ddr3 sdram. 6 gb ...|               null|             1024 gb|        null|6 pounds. 7.4 pou...|19.29 x 13.15 x 3...|amazon.com : dell...|[dell, inspiron, ...|         [dell]|            [intel]|\n",
      "|www.isupplyhub.co...|  acer|    intel|     null|1.6 ghz intel cor...|1.6 ghz intel cor...| 8 gb ddr3l sdram|    8 gb ddr3l sdram|               null|500 gb mechanical...|        null|          4.4 pounds|13.39 x 9.45 x 0....|amazon.com : acer...|[acer, aspire, v7...|         [acer]|            [intel]|\n",
      "|www.isupplyhub.co...|  acer|    intel|     null|2.4 ghz core i3-3...|2.4 ghz core i3-3...|        6 gb ddr3|ddr3 sdram. 6 gb ...|               null|              500 gb|        null|          7.1 pounds|16.30 x 10.80 x 1...|amazon.com : acer...|[acer, aspire, nx...|         [acer]|            [intel]|\n",
      "+--------------------+------+---------+---------+--------------------+--------------------+-----------------+--------------------+-------------------+--------------------+------------+--------------------+--------------------+--------------------+--------------------+---------------+-------------------+\n",
      "only showing top 20 rows\n",
      "\n"
     ]
    }
   ],
   "source": [
    "columns = ['title', 'brand', 'cpu_brand']\n",
    "blocking_df = tokenize(df, columns)\n",
    "#use N-Gram"
   ],
   "metadata": {
    "collapsed": false,
    "pycharm": {
     "name": "#%%\n"
    }
   }
  },
  {
   "cell_type": "code",
   "execution_count": 299,
   "outputs": [
    {
     "name": "stdout",
     "output_type": "stream",
     "text": [
      "+-----+--------------------+--------------------+--------------------+\n",
      "|topic|         termIndices|         termWeights|          topicWords|\n",
      "+-----+--------------------+--------------------+--------------------+\n",
      "|    0|[16, 14, 10, 13, 12]|[0.03445398074735...|[3320m, x230, 8, ...|\n",
      "|    1|[343, 166, 339, 1...|[0.00301512143024...|[12tbdcckk, 4290,...|\n",
      "|    2|[184, 368, 86, 13...|[0.00288863819464...|[v7, burner, 4010...|\n",
      "|    3|[37, 88, 51, 18, 44]|[0.02266808435478...|[i3, x130e, 11, 6...|\n",
      "|    4|[23, 39, 60, 27, 24]|[0.03234836003291...|[computers, inch,...|\n",
      "|    5|[47, 40, 182, 246...|[0.05826819160151...|[elitebook, hp, 2...|\n",
      "|    6|[375, 84, 211, 20...|[0.00295990194561...|[5423, pc, touchs...|\n",
      "|    7|[7, 278, 307, 245...|[0.00295240715391...|[thinkpad, gtx, b...|\n",
      "|    8|[89, 75, 144, 95,...|[0.02066701435931...|[771, 17, mg7aa, ...|\n",
      "|    9|[220, 237, 281, 3...|[0.00308689832019...|[20204g50mnii, 73...|\n",
      "+-----+--------------------+--------------------+--------------------+\n",
      "\n",
      "+-----+---------------+--------------------+--------------------+\n",
      "|topic|    termIndices|         termWeights|          topicWords|\n",
      "+-----+---------------+--------------------+--------------------+\n",
      "|    0|[1, 3, 4, 2, 0]|[0.98880823746932...|[acer, dell, asus...|\n",
      "|    1|[2, 4, 3, 0, 1]|[0.98426871705329...|[hp, asus, dell, ...|\n",
      "|    2|[4, 0, 1, 2, 3]|[0.20863748943682...|[asus, lenovo, ac...|\n",
      "|    3|[0, 4, 3, 2, 1]|[0.99713933263729...|[lenovo, asus, de...|\n",
      "|    4|[3, 0, 1, 4, 2]|[0.93008595978817...|[dell, lenovo, ac...|\n",
      "|    5|[0, 3, 1, 4, 2]|[0.20330453046867...|[lenovo, dell, ac...|\n",
      "|    6|[0, 1, 4, 2, 3]|[0.20860930382270...|[lenovo, acer, as...|\n",
      "|    7|[3, 0, 2, 1, 4]|[0.20700302416526...|[dell, lenovo, hp...|\n",
      "|    8|[1, 3, 2, 0, 4]|[0.21494512774064...|[acer, dell, hp, ...|\n",
      "|    9|[4, 3, 2, 1, 0]|[0.85997422556783...|[asus, dell, hp, ...|\n",
      "+-----+---------------+--------------------+--------------------+\n",
      "\n",
      "+-----+-----------+--------------------+------------+\n",
      "|topic|termIndices|         termWeights|  topicWords|\n",
      "+-----+-----------+--------------------+------------+\n",
      "|    0|     [1, 0]|[0.98768650339125...|[amd, intel]|\n",
      "|    1|     [1, 0]|[0.50947296333518...|[amd, intel]|\n",
      "|    2|     [0, 1]|[0.99950400596389...|[intel, amd]|\n",
      "|    3|     [1, 0]|[0.51379351333307...|[amd, intel]|\n",
      "|    4|     [1, 0]|[0.50378594360289...|[amd, intel]|\n",
      "|    5|     [0, 1]|[0.50839109121349...|[intel, amd]|\n",
      "|    6|     [0, 1]|[0.50063930689903...|[intel, amd]|\n",
      "|    7|     [1, 0]|[0.52089569367193...|[amd, intel]|\n",
      "|    8|     [1, 0]|[0.50457071130075...|[amd, intel]|\n",
      "|    9|     [1, 0]|[0.51166089274697...|[amd, intel]|\n",
      "+-----+-----------+--------------------+------------+\n",
      "\n"
     ]
    }
   ],
   "source": [
    "blocking_df = tfidf_top_tokens(blocking_df, [c+'_swRemoved' for c in columns])\n"
   ],
   "metadata": {
    "collapsed": false,
    "pycharm": {
     "name": "#%%\n"
    }
   }
  },
  {
   "cell_type": "code",
   "execution_count": 300,
   "outputs": [
    {
     "ename": "AnalysisException",
     "evalue": "cannot resolve '`title_swRemoved_top_tokens`' given input columns: [brand, brand_swRemoved, cpu_brand, cpu_brand_swRemoved, cpu_brand_swRemoved_RawFeatures, cpu_brand_swRemoved_features, cpu_brand_swRemoved_tfidf, cpu_frequency, cpu_model, cpu_type, dimensions, hdd_capacity, instance_id, ram_capacity, ram_frequency, ram_type, ssd_capacity, title, title_encoding, title_swRemoved, weight];\n'Project [instance_id#48429, brand#48654, cpu_brand#48677, cpu_model#48692, cpu_type#48489, cpu_frequency#48504, ram_capacity#48519, ram_type#48534, ram_frequency#48549, hdd_capacity#48564, ssd_capacity#48579, weight#48594, dimensions#48609, title#48624, title_swRemoved#48765, brand_swRemoved#48928, cpu_brand_swRemoved#49099, cpu_brand_swRemoved_RawFeatures#49517, cpu_brand_swRemoved_features#49546, cpu_brand_swRemoved_tfidf#49572, title_encoding#49657, 'title_swRemoved_top_tokens AS blocking_keys#49679]\n+- Project [instance_id#48429, brand#48654, cpu_brand#48677, cpu_model#48692, cpu_type#48489, cpu_frequency#48504, ram_capacity#48519, ram_type#48534, ram_frequency#48549, hdd_capacity#48564, ssd_capacity#48579, weight#48594, dimensions#48609, title#48624, title_swRemoved#48765, brand_swRemoved#48928, cpu_brand_swRemoved#49099, cpu_brand_swRemoved_RawFeatures#49517, cpu_brand_swRemoved_features#49546, cpu_brand_swRemoved_tfidf#49572, encode_sentence(coalesce(title#48624, )) AS title_encoding#49657]\n   +- Project [instance_id#48429, brand#48654, cpu_brand#48677, cpu_model#48692, cpu_type#48489, cpu_frequency#48504, ram_capacity#48519, ram_type#48534, ram_frequency#48549, hdd_capacity#48564, ssd_capacity#48579, weight#48594, dimensions#48609, title#48624, title_swRemoved#48765, brand_swRemoved#48928, cpu_brand_swRemoved#49099, cpu_brand_swRemoved_RawFeatures#49517, cpu_brand_swRemoved_features#49546, UDF(cpu_brand_swRemoved_features#49546) AS cpu_brand_swRemoved_tfidf#49572]\n      +- Project [instance_id#48429, brand#48654, cpu_brand#48677, cpu_model#48692, cpu_type#48489, cpu_frequency#48504, ram_capacity#48519, ram_type#48534, ram_frequency#48549, hdd_capacity#48564, ssd_capacity#48579, weight#48594, dimensions#48609, title#48624, title_swRemoved#48765, brand_swRemoved#48928, cpu_brand_swRemoved#49099, cpu_brand_swRemoved_RawFeatures#49517, UDF(cpu_brand_swRemoved_RawFeatures#49517) AS cpu_brand_swRemoved_features#49546]\n         +- Project [instance_id#48429, brand#48654, cpu_brand#48677, cpu_model#48692, cpu_type#48489, cpu_frequency#48504, ram_capacity#48519, ram_type#48534, ram_frequency#48549, hdd_capacity#48564, ssd_capacity#48579, weight#48594, dimensions#48609, title#48624, title_swRemoved#48765, brand_swRemoved#48928, cpu_brand_swRemoved#49099, UDF(cpu_brand_swRemoved#49099) AS cpu_brand_swRemoved_RawFeatures#49517]\n            +- Project [instance_id#48429, brand#48654, cpu_brand#48677, cpu_model#48692, cpu_type#48489, cpu_frequency#48504, ram_capacity#48519, ram_type#48534, ram_frequency#48549, hdd_capacity#48564, ssd_capacity#48579, weight#48594, dimensions#48609, title#48624, title_swRemoved#48765, brand_swRemoved#48928, cpu_brand_swRemoved#49099]\n               +- Project [instance_id#48429, brand#48654, cpu_brand#48677, cpu_model#48692, cpu_type#48489, cpu_frequency#48504, ram_capacity#48519, ram_type#48534, ram_frequency#48549, hdd_capacity#48564, ssd_capacity#48579, weight#48594, dimensions#48609, title#48624, title_swRemoved#48765, brand_swRemoved#48928, temp#49045, cpu_brand_tokens#49074, UDF(cpu_brand_tokens#49074) AS cpu_brand_swRemoved#49099]\n                  +- Project [instance_id#48429, brand#48654, cpu_brand#48677, cpu_model#48692, cpu_type#48489, cpu_frequency#48504, ram_capacity#48519, ram_type#48534, ram_frequency#48549, hdd_capacity#48564, ssd_capacity#48579, weight#48594, dimensions#48609, title#48624, title_swRemoved#48765, brand_swRemoved#48928, temp#49045, UDF(temp#49045) AS cpu_brand_tokens#49074]\n                     +- Project [instance_id#48429, brand#48654, cpu_brand#48677, cpu_model#48692, cpu_type#48489, cpu_frequency#48504, ram_capacity#48519, ram_type#48534, ram_frequency#48549, hdd_capacity#48564, ssd_capacity#48579, weight#48594, dimensions#48609, title#48624, title_swRemoved#48765, brand_swRemoved#48928, coalesce(cpu_brand#48677, lower(cpu_brand#48677), ) AS temp#49045]\n                        +- Project [instance_id#48429, brand#48654, cpu_brand#48677, cpu_model#48692, cpu_type#48489, cpu_frequency#48504, ram_capacity#48519, ram_type#48534, ram_frequency#48549, hdd_capacity#48564, ssd_capacity#48579, weight#48594, dimensions#48609, title#48624, title_swRemoved#48765, brand_swRemoved#48928]\n                           +- Project [instance_id#48429, brand#48654, cpu_brand#48677, cpu_model#48692, cpu_type#48489, cpu_frequency#48504, ram_capacity#48519, ram_type#48534, ram_frequency#48549, hdd_capacity#48564, ssd_capacity#48579, weight#48594, dimensions#48609, title#48624, title_swRemoved#48765, temp#48876, brand_tokens#48904, UDF(brand_tokens#48904) AS brand_swRemoved#48928]\n                              +- Project [instance_id#48429, brand#48654, cpu_brand#48677, cpu_model#48692, cpu_type#48489, cpu_frequency#48504, ram_capacity#48519, ram_type#48534, ram_frequency#48549, hdd_capacity#48564, ssd_capacity#48579, weight#48594, dimensions#48609, title#48624, title_swRemoved#48765, temp#48876, UDF(temp#48876) AS brand_tokens#48904]\n                                 +- Project [instance_id#48429, brand#48654, cpu_brand#48677, cpu_model#48692, cpu_type#48489, cpu_frequency#48504, ram_capacity#48519, ram_type#48534, ram_frequency#48549, hdd_capacity#48564, ssd_capacity#48579, weight#48594, dimensions#48609, title#48624, title_swRemoved#48765, coalesce(brand#48654, lower(brand#48654), ) AS temp#48876]\n                                    +- Project [instance_id#48429, brand#48654, cpu_brand#48677, cpu_model#48692, cpu_type#48489, cpu_frequency#48504, ram_capacity#48519, ram_type#48534, ram_frequency#48549, hdd_capacity#48564, ssd_capacity#48579, weight#48594, dimensions#48609, title#48624, title_swRemoved#48765]\n                                       +- Project [instance_id#48429, brand#48654, cpu_brand#48677, cpu_model#48692, cpu_type#48489, cpu_frequency#48504, ram_capacity#48519, ram_type#48534, ram_frequency#48549, hdd_capacity#48564, ssd_capacity#48579, weight#48594, dimensions#48609, title#48624, temp#48716, title_tokens#48742, UDF(title_tokens#48742) AS title_swRemoved#48765]\n                                          +- Project [instance_id#48429, brand#48654, cpu_brand#48677, cpu_model#48692, cpu_type#48489, cpu_frequency#48504, ram_capacity#48519, ram_type#48534, ram_frequency#48549, hdd_capacity#48564, ssd_capacity#48579, weight#48594, dimensions#48609, title#48624, temp#48716, UDF(temp#48716) AS title_tokens#48742]\n                                             +- Project [instance_id#48429, brand#48654, cpu_brand#48677, cpu_model#48692, cpu_type#48489, cpu_frequency#48504, ram_capacity#48519, ram_type#48534, ram_frequency#48549, hdd_capacity#48564, ssd_capacity#48579, weight#48594, dimensions#48609, title#48624, coalesce(title#48624, lower(title#48624), ) AS temp#48716]\n                                                +- Project [instance_id#48429, brand#48654, cpu_brand#48677, CASE WHEN (cpu_brand#48677 = intel) THEN regexp_extract(cpu_model#48474, ((i\\d)|pentium|celeron), 1) ELSE cpu_model#48474 END AS cpu_model#48692, cpu_type#48489, cpu_frequency#48504, ram_capacity#48519, ram_type#48534, ram_frequency#48549, hdd_capacity#48564, ssd_capacity#48579, weight#48594, dimensions#48609, title#48624]\n                                                   +- Project [instance_id#48429, brand#48654, CASE WHEN NOT (regexp_extract(cpu_brand#48459, (intel|apple|amd|nvidia|arm), 1) = ) THEN regexp_extract(cpu_brand#48459, (intel|apple|amd|nvidia|arm), 1) ELSE regexp_extract(title#48624, (intel|apple|amd|nvidia|arm), 1) END AS cpu_brand#48677, cpu_model#48474, cpu_type#48489, cpu_frequency#48504, ram_capacity#48519, ram_type#48534, ram_frequency#48549, hdd_capacity#48564, ssd_capacity#48579, weight#48594, dimensions#48609, title#48624]\n                                                      +- Project [instance_id#48429, CASE WHEN NOT (regexp_extract(title#48624, (lenovo|acer|hp|dell|asus|samsung|huawei|surface|apple), 1) = ) THEN regexp_extract(title#48624, (lenovo|acer|hp|dell|asus|samsung|huawei|surface|apple), 1) ELSE brand#48639 END AS brand#48654, cpu_brand#48459, cpu_model#48474, cpu_type#48489, cpu_frequency#48504, ram_capacity#48519, ram_type#48534, ram_frequency#48549, hdd_capacity#48564, ssd_capacity#48579, weight#48594, dimensions#48609, title#48624]\n                                                         +- Project [instance_id#48429, regexp_extract(brand#48444, ^(\\w+), 1) AS brand#48639, cpu_brand#48459, cpu_model#48474, cpu_type#48489, cpu_frequency#48504, ram_capacity#48519, ram_type#48534, ram_frequency#48549, hdd_capacity#48564, ssd_capacity#48579, weight#48594, dimensions#48609, title#48624]\n                                                            +- Project [instance_id#48429, brand#48444, cpu_brand#48459, cpu_model#48474, cpu_type#48489, cpu_frequency#48504, ram_capacity#48519, ram_type#48534, ram_frequency#48549, hdd_capacity#48564, ssd_capacity#48579, weight#48594, dimensions#48609, lower(title#48400) AS title#48624]\n                                                               +- Project [instance_id#48429, brand#48444, cpu_brand#48459, cpu_model#48474, cpu_type#48489, cpu_frequency#48504, ram_capacity#48519, ram_type#48534, ram_frequency#48549, hdd_capacity#48564, ssd_capacity#48579, weight#48594, lower(dimensions#48399) AS dimensions#48609, title#48400]\n                                                                  +- Project [instance_id#48429, brand#48444, cpu_brand#48459, cpu_model#48474, cpu_type#48489, cpu_frequency#48504, ram_capacity#48519, ram_type#48534, ram_frequency#48549, hdd_capacity#48564, ssd_capacity#48579, lower(weight#48398) AS weight#48594, dimensions#48399, title#48400]\n                                                                     +- Project [instance_id#48429, brand#48444, cpu_brand#48459, cpu_model#48474, cpu_type#48489, cpu_frequency#48504, ram_capacity#48519, ram_type#48534, ram_frequency#48549, hdd_capacity#48564, lower(ssd_capacity#48397) AS ssd_capacity#48579, weight#48398, dimensions#48399, title#48400]\n                                                                        +- Project [instance_id#48429, brand#48444, cpu_brand#48459, cpu_model#48474, cpu_type#48489, cpu_frequency#48504, ram_capacity#48519, ram_type#48534, ram_frequency#48549, lower(hdd_capacity#48396) AS hdd_capacity#48564, ssd_capacity#48397, weight#48398, dimensions#48399, title#48400]\n                                                                           +- Project [instance_id#48429, brand#48444, cpu_brand#48459, cpu_model#48474, cpu_type#48489, cpu_frequency#48504, ram_capacity#48519, ram_type#48534, lower(ram_frequency#48395) AS ram_frequency#48549, hdd_capacity#48396, ssd_capacity#48397, weight#48398, dimensions#48399, title#48400]\n                                                                              +- Project [instance_id#48429, brand#48444, cpu_brand#48459, cpu_model#48474, cpu_type#48489, cpu_frequency#48504, ram_capacity#48519, lower(ram_type#48394) AS ram_type#48534, ram_frequency#48395, hdd_capacity#48396, ssd_capacity#48397, weight#48398, dimensions#48399, title#48400]\n                                                                                 +- Project [instance_id#48429, brand#48444, cpu_brand#48459, cpu_model#48474, cpu_type#48489, cpu_frequency#48504, lower(ram_capacity#48393) AS ram_capacity#48519, ram_type#48394, ram_frequency#48395, hdd_capacity#48396, ssd_capacity#48397, weight#48398, dimensions#48399, title#48400]\n                                                                                    +- Project [instance_id#48429, brand#48444, cpu_brand#48459, cpu_model#48474, cpu_type#48489, lower(cpu_frequency#48392) AS cpu_frequency#48504, ram_capacity#48393, ram_type#48394, ram_frequency#48395, hdd_capacity#48396, ssd_capacity#48397, weight#48398, dimensions#48399, title#48400]\n                                                                                       +- Project [instance_id#48429, brand#48444, cpu_brand#48459, cpu_model#48474, lower(cpu_type#48391) AS cpu_type#48489, cpu_frequency#48392, ram_capacity#48393, ram_type#48394, ram_frequency#48395, hdd_capacity#48396, ssd_capacity#48397, weight#48398, dimensions#48399, title#48400]\n                                                                                          +- Project [instance_id#48429, brand#48444, cpu_brand#48459, lower(cpu_model#48390) AS cpu_model#48474, cpu_type#48391, cpu_frequency#48392, ram_capacity#48393, ram_type#48394, ram_frequency#48395, hdd_capacity#48396, ssd_capacity#48397, weight#48398, dimensions#48399, title#48400]\n                                                                                             +- Project [instance_id#48429, brand#48444, lower(cpu_brand#48389) AS cpu_brand#48459, cpu_model#48390, cpu_type#48391, cpu_frequency#48392, ram_capacity#48393, ram_type#48394, ram_frequency#48395, hdd_capacity#48396, ssd_capacity#48397, weight#48398, dimensions#48399, title#48400]\n                                                                                                +- Project [instance_id#48429, lower(brand#48388) AS brand#48444, cpu_brand#48389, cpu_model#48390, cpu_type#48391, cpu_frequency#48392, ram_capacity#48393, ram_type#48394, ram_frequency#48395, hdd_capacity#48396, ssd_capacity#48397, weight#48398, dimensions#48399, title#48400]\n                                                                                                   +- Project [lower(instance_id#48387) AS instance_id#48429, brand#48388, cpu_brand#48389, cpu_model#48390, cpu_type#48391, cpu_frequency#48392, ram_capacity#48393, ram_type#48394, ram_frequency#48395, hdd_capacity#48396, ssd_capacity#48397, weight#48398, dimensions#48399, title#48400]\n                                                                                                      +- Relation[instance_id#48387,brand#48388,cpu_brand#48389,cpu_model#48390,cpu_type#48391,cpu_frequency#48392,ram_capacity#48393,ram_type#48394,ram_frequency#48395,hdd_capacity#48396,ssd_capacity#48397,weight#48398,dimensions#48399,title#48400] csv\n",
     "output_type": "error",
     "traceback": [
      "\u001B[0;31m---------------------------------------------------------------------------\u001B[0m",
      "\u001B[0;31mAnalysisException\u001B[0m                         Traceback (most recent call last)",
      "\u001B[0;32m<ipython-input-300-28e48d81d7fb>\u001B[0m in \u001B[0;36m<module>\u001B[0;34m\u001B[0m\n\u001B[0;32m----> 1\u001B[0;31m \u001B[0mblocking_df\u001B[0m \u001B[0;34m=\u001B[0m \u001B[0mblocking_df\u001B[0m\u001B[0;34m.\u001B[0m\u001B[0mwithColumn\u001B[0m\u001B[0;34m(\u001B[0m\u001B[0;34m'title_encoding'\u001B[0m\u001B[0;34m,\u001B[0m \u001B[0mencode_sentence\u001B[0m\u001B[0;34m(\u001B[0m\u001B[0mf\u001B[0m\u001B[0;34m.\u001B[0m\u001B[0mcoalesce\u001B[0m\u001B[0;34m(\u001B[0m\u001B[0mf\u001B[0m\u001B[0;34m.\u001B[0m\u001B[0mcol\u001B[0m\u001B[0;34m(\u001B[0m\u001B[0;34m'title'\u001B[0m\u001B[0;34m)\u001B[0m\u001B[0;34m,\u001B[0m \u001B[0mf\u001B[0m\u001B[0;34m.\u001B[0m\u001B[0mlit\u001B[0m\u001B[0;34m(\u001B[0m\u001B[0;34m''\u001B[0m\u001B[0;34m)\u001B[0m\u001B[0;34m)\u001B[0m\u001B[0;34m)\u001B[0m\u001B[0;34m)\u001B[0m\u001B[0;31m\\\u001B[0m\u001B[0;34m\u001B[0m\u001B[0;34m\u001B[0m\u001B[0m\n\u001B[0m\u001B[1;32m      2\u001B[0m \u001B[0;34m.\u001B[0m\u001B[0mwithColumn\u001B[0m\u001B[0;34m(\u001B[0m\u001B[0;34m'blocking_keys'\u001B[0m\u001B[0;34m,\u001B[0m\u001B[0mf\u001B[0m\u001B[0;34m.\u001B[0m\u001B[0mcol\u001B[0m\u001B[0;34m(\u001B[0m\u001B[0;34m'title_swRemoved_top_tokens'\u001B[0m\u001B[0;34m)\u001B[0m\u001B[0;34m)\u001B[0m\u001B[0;34m\u001B[0m\u001B[0;34m\u001B[0m\u001B[0m\n\u001B[1;32m      3\u001B[0m \u001B[0mblocking_df\u001B[0m\u001B[0;34m.\u001B[0m\u001B[0mtoPandas\u001B[0m\u001B[0;34m(\u001B[0m\u001B[0;34m)\u001B[0m\u001B[0;34m\u001B[0m\u001B[0;34m\u001B[0m\u001B[0m\n\u001B[1;32m      4\u001B[0m \u001B[0;34m\u001B[0m\u001B[0m\n",
      "\u001B[0;32m/usr/local/lib/python3.8/dist-packages/pyspark/sql/dataframe.py\u001B[0m in \u001B[0;36mwithColumn\u001B[0;34m(self, colName, col)\u001B[0m\n\u001B[1;32m   2453\u001B[0m         \"\"\"\n\u001B[1;32m   2454\u001B[0m         \u001B[0;32massert\u001B[0m \u001B[0misinstance\u001B[0m\u001B[0;34m(\u001B[0m\u001B[0mcol\u001B[0m\u001B[0;34m,\u001B[0m \u001B[0mColumn\u001B[0m\u001B[0;34m)\u001B[0m\u001B[0;34m,\u001B[0m \u001B[0;34m\"col should be Column\"\u001B[0m\u001B[0;34m\u001B[0m\u001B[0;34m\u001B[0m\u001B[0m\n\u001B[0;32m-> 2455\u001B[0;31m         \u001B[0;32mreturn\u001B[0m \u001B[0mDataFrame\u001B[0m\u001B[0;34m(\u001B[0m\u001B[0mself\u001B[0m\u001B[0;34m.\u001B[0m\u001B[0m_jdf\u001B[0m\u001B[0;34m.\u001B[0m\u001B[0mwithColumn\u001B[0m\u001B[0;34m(\u001B[0m\u001B[0mcolName\u001B[0m\u001B[0;34m,\u001B[0m \u001B[0mcol\u001B[0m\u001B[0;34m.\u001B[0m\u001B[0m_jc\u001B[0m\u001B[0;34m)\u001B[0m\u001B[0;34m,\u001B[0m \u001B[0mself\u001B[0m\u001B[0;34m.\u001B[0m\u001B[0msql_ctx\u001B[0m\u001B[0;34m)\u001B[0m\u001B[0;34m\u001B[0m\u001B[0;34m\u001B[0m\u001B[0m\n\u001B[0m\u001B[1;32m   2456\u001B[0m \u001B[0;34m\u001B[0m\u001B[0m\n\u001B[1;32m   2457\u001B[0m     \u001B[0;32mdef\u001B[0m \u001B[0mwithColumnRenamed\u001B[0m\u001B[0;34m(\u001B[0m\u001B[0mself\u001B[0m\u001B[0;34m,\u001B[0m \u001B[0mexisting\u001B[0m\u001B[0;34m,\u001B[0m \u001B[0mnew\u001B[0m\u001B[0;34m)\u001B[0m\u001B[0;34m:\u001B[0m\u001B[0;34m\u001B[0m\u001B[0;34m\u001B[0m\u001B[0m\n",
      "\u001B[0;32m/usr/local/lib/python3.8/dist-packages/py4j/java_gateway.py\u001B[0m in \u001B[0;36m__call__\u001B[0;34m(self, *args)\u001B[0m\n\u001B[1;32m   1302\u001B[0m \u001B[0;34m\u001B[0m\u001B[0m\n\u001B[1;32m   1303\u001B[0m         \u001B[0manswer\u001B[0m \u001B[0;34m=\u001B[0m \u001B[0mself\u001B[0m\u001B[0;34m.\u001B[0m\u001B[0mgateway_client\u001B[0m\u001B[0;34m.\u001B[0m\u001B[0msend_command\u001B[0m\u001B[0;34m(\u001B[0m\u001B[0mcommand\u001B[0m\u001B[0;34m)\u001B[0m\u001B[0;34m\u001B[0m\u001B[0;34m\u001B[0m\u001B[0m\n\u001B[0;32m-> 1304\u001B[0;31m         return_value = get_return_value(\n\u001B[0m\u001B[1;32m   1305\u001B[0m             answer, self.gateway_client, self.target_id, self.name)\n\u001B[1;32m   1306\u001B[0m \u001B[0;34m\u001B[0m\u001B[0m\n",
      "\u001B[0;32m/usr/local/lib/python3.8/dist-packages/pyspark/sql/utils.py\u001B[0m in \u001B[0;36mdeco\u001B[0;34m(*a, **kw)\u001B[0m\n\u001B[1;32m    115\u001B[0m                 \u001B[0;31m# Hide where the exception came from that shows a non-Pythonic\u001B[0m\u001B[0;34m\u001B[0m\u001B[0;34m\u001B[0m\u001B[0;34m\u001B[0m\u001B[0m\n\u001B[1;32m    116\u001B[0m                 \u001B[0;31m# JVM exception message.\u001B[0m\u001B[0;34m\u001B[0m\u001B[0;34m\u001B[0m\u001B[0;34m\u001B[0m\u001B[0m\n\u001B[0;32m--> 117\u001B[0;31m                 \u001B[0;32mraise\u001B[0m \u001B[0mconverted\u001B[0m \u001B[0;32mfrom\u001B[0m \u001B[0;32mNone\u001B[0m\u001B[0;34m\u001B[0m\u001B[0;34m\u001B[0m\u001B[0m\n\u001B[0m\u001B[1;32m    118\u001B[0m             \u001B[0;32melse\u001B[0m\u001B[0;34m:\u001B[0m\u001B[0;34m\u001B[0m\u001B[0;34m\u001B[0m\u001B[0m\n\u001B[1;32m    119\u001B[0m                 \u001B[0;32mraise\u001B[0m\u001B[0;34m\u001B[0m\u001B[0;34m\u001B[0m\u001B[0m\n",
      "\u001B[0;31mAnalysisException\u001B[0m: cannot resolve '`title_swRemoved_top_tokens`' given input columns: [brand, brand_swRemoved, cpu_brand, cpu_brand_swRemoved, cpu_brand_swRemoved_RawFeatures, cpu_brand_swRemoved_features, cpu_brand_swRemoved_tfidf, cpu_frequency, cpu_model, cpu_type, dimensions, hdd_capacity, instance_id, ram_capacity, ram_frequency, ram_type, ssd_capacity, title, title_encoding, title_swRemoved, weight];\n'Project [instance_id#48429, brand#48654, cpu_brand#48677, cpu_model#48692, cpu_type#48489, cpu_frequency#48504, ram_capacity#48519, ram_type#48534, ram_frequency#48549, hdd_capacity#48564, ssd_capacity#48579, weight#48594, dimensions#48609, title#48624, title_swRemoved#48765, brand_swRemoved#48928, cpu_brand_swRemoved#49099, cpu_brand_swRemoved_RawFeatures#49517, cpu_brand_swRemoved_features#49546, cpu_brand_swRemoved_tfidf#49572, title_encoding#49657, 'title_swRemoved_top_tokens AS blocking_keys#49679]\n+- Project [instance_id#48429, brand#48654, cpu_brand#48677, cpu_model#48692, cpu_type#48489, cpu_frequency#48504, ram_capacity#48519, ram_type#48534, ram_frequency#48549, hdd_capacity#48564, ssd_capacity#48579, weight#48594, dimensions#48609, title#48624, title_swRemoved#48765, brand_swRemoved#48928, cpu_brand_swRemoved#49099, cpu_brand_swRemoved_RawFeatures#49517, cpu_brand_swRemoved_features#49546, cpu_brand_swRemoved_tfidf#49572, encode_sentence(coalesce(title#48624, )) AS title_encoding#49657]\n   +- Project [instance_id#48429, brand#48654, cpu_brand#48677, cpu_model#48692, cpu_type#48489, cpu_frequency#48504, ram_capacity#48519, ram_type#48534, ram_frequency#48549, hdd_capacity#48564, ssd_capacity#48579, weight#48594, dimensions#48609, title#48624, title_swRemoved#48765, brand_swRemoved#48928, cpu_brand_swRemoved#49099, cpu_brand_swRemoved_RawFeatures#49517, cpu_brand_swRemoved_features#49546, UDF(cpu_brand_swRemoved_features#49546) AS cpu_brand_swRemoved_tfidf#49572]\n      +- Project [instance_id#48429, brand#48654, cpu_brand#48677, cpu_model#48692, cpu_type#48489, cpu_frequency#48504, ram_capacity#48519, ram_type#48534, ram_frequency#48549, hdd_capacity#48564, ssd_capacity#48579, weight#48594, dimensions#48609, title#48624, title_swRemoved#48765, brand_swRemoved#48928, cpu_brand_swRemoved#49099, cpu_brand_swRemoved_RawFeatures#49517, UDF(cpu_brand_swRemoved_RawFeatures#49517) AS cpu_brand_swRemoved_features#49546]\n         +- Project [instance_id#48429, brand#48654, cpu_brand#48677, cpu_model#48692, cpu_type#48489, cpu_frequency#48504, ram_capacity#48519, ram_type#48534, ram_frequency#48549, hdd_capacity#48564, ssd_capacity#48579, weight#48594, dimensions#48609, title#48624, title_swRemoved#48765, brand_swRemoved#48928, cpu_brand_swRemoved#49099, UDF(cpu_brand_swRemoved#49099) AS cpu_brand_swRemoved_RawFeatures#49517]\n            +- Project [instance_id#48429, brand#48654, cpu_brand#48677, cpu_model#48692, cpu_type#48489, cpu_frequency#48504, ram_capacity#48519, ram_type#48534, ram_frequency#48549, hdd_capacity#48564, ssd_capacity#48579, weight#48594, dimensions#48609, title#48624, title_swRemoved#48765, brand_swRemoved#48928, cpu_brand_swRemoved#49099]\n               +- Project [instance_id#48429, brand#48654, cpu_brand#48677, cpu_model#48692, cpu_type#48489, cpu_frequency#48504, ram_capacity#48519, ram_type#48534, ram_frequency#48549, hdd_capacity#48564, ssd_capacity#48579, weight#48594, dimensions#48609, title#48624, title_swRemoved#48765, brand_swRemoved#48928, temp#49045, cpu_brand_tokens#49074, UDF(cpu_brand_tokens#49074) AS cpu_brand_swRemoved#49099]\n                  +- Project [instance_id#48429, brand#48654, cpu_brand#48677, cpu_model#48692, cpu_type#48489, cpu_frequency#48504, ram_capacity#48519, ram_type#48534, ram_frequency#48549, hdd_capacity#48564, ssd_capacity#48579, weight#48594, dimensions#48609, title#48624, title_swRemoved#48765, brand_swRemoved#48928, temp#49045, UDF(temp#49045) AS cpu_brand_tokens#49074]\n                     +- Project [instance_id#48429, brand#48654, cpu_brand#48677, cpu_model#48692, cpu_type#48489, cpu_frequency#48504, ram_capacity#48519, ram_type#48534, ram_frequency#48549, hdd_capacity#48564, ssd_capacity#48579, weight#48594, dimensions#48609, title#48624, title_swRemoved#48765, brand_swRemoved#48928, coalesce(cpu_brand#48677, lower(cpu_brand#48677), ) AS temp#49045]\n                        +- Project [instance_id#48429, brand#48654, cpu_brand#48677, cpu_model#48692, cpu_type#48489, cpu_frequency#48504, ram_capacity#48519, ram_type#48534, ram_frequency#48549, hdd_capacity#48564, ssd_capacity#48579, weight#48594, dimensions#48609, title#48624, title_swRemoved#48765, brand_swRemoved#48928]\n                           +- Project [instance_id#48429, brand#48654, cpu_brand#48677, cpu_model#48692, cpu_type#48489, cpu_frequency#48504, ram_capacity#48519, ram_type#48534, ram_frequency#48549, hdd_capacity#48564, ssd_capacity#48579, weight#48594, dimensions#48609, title#48624, title_swRemoved#48765, temp#48876, brand_tokens#48904, UDF(brand_tokens#48904) AS brand_swRemoved#48928]\n                              +- Project [instance_id#48429, brand#48654, cpu_brand#48677, cpu_model#48692, cpu_type#48489, cpu_frequency#48504, ram_capacity#48519, ram_type#48534, ram_frequency#48549, hdd_capacity#48564, ssd_capacity#48579, weight#48594, dimensions#48609, title#48624, title_swRemoved#48765, temp#48876, UDF(temp#48876) AS brand_tokens#48904]\n                                 +- Project [instance_id#48429, brand#48654, cpu_brand#48677, cpu_model#48692, cpu_type#48489, cpu_frequency#48504, ram_capacity#48519, ram_type#48534, ram_frequency#48549, hdd_capacity#48564, ssd_capacity#48579, weight#48594, dimensions#48609, title#48624, title_swRemoved#48765, coalesce(brand#48654, lower(brand#48654), ) AS temp#48876]\n                                    +- Project [instance_id#48429, brand#48654, cpu_brand#48677, cpu_model#48692, cpu_type#48489, cpu_frequency#48504, ram_capacity#48519, ram_type#48534, ram_frequency#48549, hdd_capacity#48564, ssd_capacity#48579, weight#48594, dimensions#48609, title#48624, title_swRemoved#48765]\n                                       +- Project [instance_id#48429, brand#48654, cpu_brand#48677, cpu_model#48692, cpu_type#48489, cpu_frequency#48504, ram_capacity#48519, ram_type#48534, ram_frequency#48549, hdd_capacity#48564, ssd_capacity#48579, weight#48594, dimensions#48609, title#48624, temp#48716, title_tokens#48742, UDF(title_tokens#48742) AS title_swRemoved#48765]\n                                          +- Project [instance_id#48429, brand#48654, cpu_brand#48677, cpu_model#48692, cpu_type#48489, cpu_frequency#48504, ram_capacity#48519, ram_type#48534, ram_frequency#48549, hdd_capacity#48564, ssd_capacity#48579, weight#48594, dimensions#48609, title#48624, temp#48716, UDF(temp#48716) AS title_tokens#48742]\n                                             +- Project [instance_id#48429, brand#48654, cpu_brand#48677, cpu_model#48692, cpu_type#48489, cpu_frequency#48504, ram_capacity#48519, ram_type#48534, ram_frequency#48549, hdd_capacity#48564, ssd_capacity#48579, weight#48594, dimensions#48609, title#48624, coalesce(title#48624, lower(title#48624), ) AS temp#48716]\n                                                +- Project [instance_id#48429, brand#48654, cpu_brand#48677, CASE WHEN (cpu_brand#48677 = intel) THEN regexp_extract(cpu_model#48474, ((i\\d)|pentium|celeron), 1) ELSE cpu_model#48474 END AS cpu_model#48692, cpu_type#48489, cpu_frequency#48504, ram_capacity#48519, ram_type#48534, ram_frequency#48549, hdd_capacity#48564, ssd_capacity#48579, weight#48594, dimensions#48609, title#48624]\n                                                   +- Project [instance_id#48429, brand#48654, CASE WHEN NOT (regexp_extract(cpu_brand#48459, (intel|apple|amd|nvidia|arm), 1) = ) THEN regexp_extract(cpu_brand#48459, (intel|apple|amd|nvidia|arm), 1) ELSE regexp_extract(title#48624, (intel|apple|amd|nvidia|arm), 1) END AS cpu_brand#48677, cpu_model#48474, cpu_type#48489, cpu_frequency#48504, ram_capacity#48519, ram_type#48534, ram_frequency#48549, hdd_capacity#48564, ssd_capacity#48579, weight#48594, dimensions#48609, title#48624]\n                                                      +- Project [instance_id#48429, CASE WHEN NOT (regexp_extract(title#48624, (lenovo|acer|hp|dell|asus|samsung|huawei|surface|apple), 1) = ) THEN regexp_extract(title#48624, (lenovo|acer|hp|dell|asus|samsung|huawei|surface|apple), 1) ELSE brand#48639 END AS brand#48654, cpu_brand#48459, cpu_model#48474, cpu_type#48489, cpu_frequency#48504, ram_capacity#48519, ram_type#48534, ram_frequency#48549, hdd_capacity#48564, ssd_capacity#48579, weight#48594, dimensions#48609, title#48624]\n                                                         +- Project [instance_id#48429, regexp_extract(brand#48444, ^(\\w+), 1) AS brand#48639, cpu_brand#48459, cpu_model#48474, cpu_type#48489, cpu_frequency#48504, ram_capacity#48519, ram_type#48534, ram_frequency#48549, hdd_capacity#48564, ssd_capacity#48579, weight#48594, dimensions#48609, title#48624]\n                                                            +- Project [instance_id#48429, brand#48444, cpu_brand#48459, cpu_model#48474, cpu_type#48489, cpu_frequency#48504, ram_capacity#48519, ram_type#48534, ram_frequency#48549, hdd_capacity#48564, ssd_capacity#48579, weight#48594, dimensions#48609, lower(title#48400) AS title#48624]\n                                                               +- Project [instance_id#48429, brand#48444, cpu_brand#48459, cpu_model#48474, cpu_type#48489, cpu_frequency#48504, ram_capacity#48519, ram_type#48534, ram_frequency#48549, hdd_capacity#48564, ssd_capacity#48579, weight#48594, lower(dimensions#48399) AS dimensions#48609, title#48400]\n                                                                  +- Project [instance_id#48429, brand#48444, cpu_brand#48459, cpu_model#48474, cpu_type#48489, cpu_frequency#48504, ram_capacity#48519, ram_type#48534, ram_frequency#48549, hdd_capacity#48564, ssd_capacity#48579, lower(weight#48398) AS weight#48594, dimensions#48399, title#48400]\n                                                                     +- Project [instance_id#48429, brand#48444, cpu_brand#48459, cpu_model#48474, cpu_type#48489, cpu_frequency#48504, ram_capacity#48519, ram_type#48534, ram_frequency#48549, hdd_capacity#48564, lower(ssd_capacity#48397) AS ssd_capacity#48579, weight#48398, dimensions#48399, title#48400]\n                                                                        +- Project [instance_id#48429, brand#48444, cpu_brand#48459, cpu_model#48474, cpu_type#48489, cpu_frequency#48504, ram_capacity#48519, ram_type#48534, ram_frequency#48549, lower(hdd_capacity#48396) AS hdd_capacity#48564, ssd_capacity#48397, weight#48398, dimensions#48399, title#48400]\n                                                                           +- Project [instance_id#48429, brand#48444, cpu_brand#48459, cpu_model#48474, cpu_type#48489, cpu_frequency#48504, ram_capacity#48519, ram_type#48534, lower(ram_frequency#48395) AS ram_frequency#48549, hdd_capacity#48396, ssd_capacity#48397, weight#48398, dimensions#48399, title#48400]\n                                                                              +- Project [instance_id#48429, brand#48444, cpu_brand#48459, cpu_model#48474, cpu_type#48489, cpu_frequency#48504, ram_capacity#48519, lower(ram_type#48394) AS ram_type#48534, ram_frequency#48395, hdd_capacity#48396, ssd_capacity#48397, weight#48398, dimensions#48399, title#48400]\n                                                                                 +- Project [instance_id#48429, brand#48444, cpu_brand#48459, cpu_model#48474, cpu_type#48489, cpu_frequency#48504, lower(ram_capacity#48393) AS ram_capacity#48519, ram_type#48394, ram_frequency#48395, hdd_capacity#48396, ssd_capacity#48397, weight#48398, dimensions#48399, title#48400]\n                                                                                    +- Project [instance_id#48429, brand#48444, cpu_brand#48459, cpu_model#48474, cpu_type#48489, lower(cpu_frequency#48392) AS cpu_frequency#48504, ram_capacity#48393, ram_type#48394, ram_frequency#48395, hdd_capacity#48396, ssd_capacity#48397, weight#48398, dimensions#48399, title#48400]\n                                                                                       +- Project [instance_id#48429, brand#48444, cpu_brand#48459, cpu_model#48474, lower(cpu_type#48391) AS cpu_type#48489, cpu_frequency#48392, ram_capacity#48393, ram_type#48394, ram_frequency#48395, hdd_capacity#48396, ssd_capacity#48397, weight#48398, dimensions#48399, title#48400]\n                                                                                          +- Project [instance_id#48429, brand#48444, cpu_brand#48459, lower(cpu_model#48390) AS cpu_model#48474, cpu_type#48391, cpu_frequency#48392, ram_capacity#48393, ram_type#48394, ram_frequency#48395, hdd_capacity#48396, ssd_capacity#48397, weight#48398, dimensions#48399, title#48400]\n                                                                                             +- Project [instance_id#48429, brand#48444, lower(cpu_brand#48389) AS cpu_brand#48459, cpu_model#48390, cpu_type#48391, cpu_frequency#48392, ram_capacity#48393, ram_type#48394, ram_frequency#48395, hdd_capacity#48396, ssd_capacity#48397, weight#48398, dimensions#48399, title#48400]\n                                                                                                +- Project [instance_id#48429, lower(brand#48388) AS brand#48444, cpu_brand#48389, cpu_model#48390, cpu_type#48391, cpu_frequency#48392, ram_capacity#48393, ram_type#48394, ram_frequency#48395, hdd_capacity#48396, ssd_capacity#48397, weight#48398, dimensions#48399, title#48400]\n                                                                                                   +- Project [lower(instance_id#48387) AS instance_id#48429, brand#48388, cpu_brand#48389, cpu_model#48390, cpu_type#48391, cpu_frequency#48392, ram_capacity#48393, ram_type#48394, ram_frequency#48395, hdd_capacity#48396, ssd_capacity#48397, weight#48398, dimensions#48399, title#48400]\n                                                                                                      +- Relation[instance_id#48387,brand#48388,cpu_brand#48389,cpu_model#48390,cpu_type#48391,cpu_frequency#48392,ram_capacity#48393,ram_type#48394,ram_frequency#48395,hdd_capacity#48396,ssd_capacity#48397,weight#48398,dimensions#48399,title#48400] csv\n"
     ]
    }
   ],
   "source": [
    "blocking_df = blocking_df.withColumn('title_encoding', encode_sentence(f.coalesce(f.col('title'), f.lit(''))))\\\n",
    ".withColumn('blocking_keys',f.col('title_swRemoved_top_tokens'))\n",
    "blocking_df.toPandas()"
   ],
   "metadata": {
    "collapsed": false,
    "pycharm": {
     "name": "#%%\n"
    }
   }
  },
  {
   "cell_type": "code",
   "execution_count": null,
   "outputs": [],
   "source": [
    "blocking_df.groupby('blocking_keys').count().show()"
   ],
   "metadata": {
    "collapsed": false,
    "pycharm": {
     "name": "#%%\n"
    }
   }
  },
  {
   "cell_type": "code",
   "execution_count": null,
   "outputs": [],
   "source": [],
   "metadata": {
    "collapsed": false,
    "pycharm": {
     "name": "#%%\n"
    }
   }
  }
 ],
 "metadata": {
  "kernelspec": {
   "name": "pycharm-a2066b67",
   "language": "python",
   "display_name": "PyCharm (sigmod-2021)"
  },
  "language_info": {
   "codemirror_mode": {
    "name": "ipython",
    "version": 3
   },
   "file_extension": ".py",
   "mimetype": "text/x-python",
   "name": "python",
   "nbconvert_exporter": "python",
   "pygments_lexer": "ipython3",
   "version": "3.9.2"
  }
 },
 "nbformat": 4,
 "nbformat_minor": 4
}